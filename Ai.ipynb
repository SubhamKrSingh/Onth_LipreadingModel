{
 "cells": [
  {
   "cell_type": "markdown",
   "id": "a3573a47-3689-4668-b62f-5c8451b2b4e9",
   "metadata": {
    "tags": []
   },
   "source": [
    "# 0. Install and Import Dependencies"
   ]
  },
  {
   "cell_type": "code",
   "execution_count": 2,
   "id": "ddfbccbe-41ae-4c23-98b1-a13868e2b499",
   "metadata": {
    "scrolled": true,
    "tags": []
   },
   "outputs": [
    {
     "name": "stdout",
     "output_type": "stream",
     "text": [
      "Package                           Version\n",
      "--------------------------------- ------------------\n",
      "absl-py                           2.1.0\n",
      "aext-assistant                    4.1.0\n",
      "aext-assistant-server             4.1.0\n",
      "aext-core                         4.1.0\n",
      "aext-core-server                  4.1.0\n",
      "aext-panels                       4.1.0\n",
      "aext-panels-server                4.1.0\n",
      "aext-project-filebrowser-server   4.1.0\n",
      "aext-share-notebook               4.1.0\n",
      "aext-share-notebook-server        4.1.0\n",
      "aext-shared                       4.1.0\n",
      "aext-toolbox                      4.1.0\n",
      "aiobotocore                       2.12.3\n",
      "aiohappyeyeballs                  2.4.0\n",
      "aiohttp                           3.10.5\n",
      "aioitertools                      0.7.1\n",
      "aiosignal                         1.2.0\n",
      "alabaster                         0.7.16\n",
      "alembic                           1.13.3\n",
      "altair                            5.0.1\n",
      "anaconda-anon-usage               0.4.4\n",
      "anaconda-catalogs                 0.2.0\n",
      "anaconda-cli-base                 0.4.1\n",
      "anaconda-client                   1.13.0\n",
      "anaconda-cloud-auth               0.7.2\n",
      "anaconda-navigator                2.6.3\n",
      "anaconda-project                  0.11.1\n",
      "annotated-types                   0.6.0\n",
      "anyio                             4.2.0\n",
      "appdirs                           1.4.4\n",
      "archspec                          0.2.3\n",
      "argon2-cffi                       21.3.0\n",
      "argon2-cffi-bindings              21.2.0\n",
      "arrow                             1.2.3\n",
      "astroid                           2.14.2\n",
      "astropy                           6.1.3\n",
      "astropy-iers-data                 0.2024.9.2.0.33.23\n",
      "asttokens                         2.0.5\n",
      "astunparse                        1.6.3\n",
      "async-lru                         2.0.4\n",
      "atomicwrites                      1.4.0\n",
      "attrs                             23.1.0\n",
      "Automat                           20.2.0\n",
      "autopep8                          2.0.4\n",
      "Babel                             2.11.0\n",
      "bcrypt                            3.2.0\n",
      "beautifulsoup4                    4.12.3\n",
      "binaryornot                       0.4.4\n",
      "black                             24.8.0\n",
      "bleach                            4.1.0\n",
      "blinker                           1.6.2\n",
      "bokeh                             3.6.0\n",
      "boltons                           23.0.0\n",
      "botocore                          1.34.69\n",
      "Bottleneck                        1.3.7\n",
      "Brotli                            1.0.9\n",
      "cachetools                        5.3.3\n",
      "certifi                           2025.1.31\n",
      "cffi                              1.17.1\n",
      "chardet                           4.0.0\n",
      "charset-normalizer                3.3.2\n",
      "click                             8.1.7\n",
      "cloudpickle                       3.0.0\n",
      "colorama                          0.4.6\n",
      "colorcet                          3.1.0\n",
      "comm                              0.2.1\n",
      "conda                             24.11.3\n",
      "conda-build                       24.9.0\n",
      "conda-content-trust               0.2.0\n",
      "conda_index                       0.5.0\n",
      "conda-libmamba-solver             24.9.0\n",
      "conda-pack                        0.7.1\n",
      "conda-package-handling            2.3.0\n",
      "conda_package_streaming           0.10.0\n",
      "conda-repo-cli                    1.0.114\n",
      "conda-token                       0.5.0+1.g2209e04\n",
      "constantly                        23.10.4\n",
      "contourpy                         1.2.0\n",
      "cookiecutter                      2.6.0\n",
      "cryptography                      43.0.0\n",
      "cssselect                         1.2.0\n",
      "cycler                            0.11.0\n",
      "cytoolz                           0.12.2\n",
      "dask                              2024.8.2\n",
      "dask-expr                         1.1.13\n",
      "datashader                        0.16.3\n",
      "debugpy                           1.6.7\n",
      "decorator                         5.1.1\n",
      "defusedxml                        0.7.1\n",
      "diff-match-patch                  20200713\n",
      "dill                              0.3.8\n",
      "distributed                       2024.8.2\n",
      "distro                            1.9.0\n",
      "docstring-to-markdown             0.11\n",
      "docutils                          0.18.1\n",
      "et-xmlfile                        1.1.0\n",
      "executing                         0.8.3\n",
      "fastjsonschema                    2.16.2\n",
      "filelock                          3.13.1\n",
      "flake8                            7.0.0\n",
      "Flask                             3.0.3\n",
      "flatbuffers                       25.1.24\n",
      "fonttools                         4.51.0\n",
      "frozendict                        2.4.2\n",
      "frozenlist                        1.4.0\n",
      "fsspec                            2024.6.1\n",
      "gast                              0.6.0\n",
      "gdown                             5.2.0\n",
      "gensim                            4.3.3\n",
      "gitdb                             4.0.7\n",
      "GitPython                         3.1.43\n",
      "google-pasta                      0.2.0\n",
      "greenlet                          3.0.1\n",
      "grpcio                            1.70.0\n",
      "h11                               0.14.0\n",
      "h5py                              3.11.0\n",
      "HeapDict                          1.0.1\n",
      "holoviews                         1.19.1\n",
      "httpcore                          1.0.2\n",
      "httpx                             0.27.0\n",
      "hvplot                            0.11.0\n",
      "hyperlink                         21.0.0\n",
      "idna                              3.7\n",
      "imagecodecs                       2023.1.23\n",
      "imageio                           2.33.1\n",
      "imagesize                         1.4.1\n",
      "imbalanced-learn                  0.12.3\n",
      "importlib-metadata                7.0.1\n",
      "incremental                       22.10.0\n",
      "inflection                        0.5.1\n",
      "iniconfig                         1.1.1\n",
      "intake                            2.0.7\n",
      "intervaltree                      3.1.0\n",
      "ipykernel                         6.28.0\n",
      "ipython                           8.27.0\n",
      "ipython-genutils                  0.2.0\n",
      "ipywidgets                        7.8.1\n",
      "isort                             5.13.2\n",
      "itemadapter                       0.3.0\n",
      "itemloaders                       1.1.0\n",
      "itsdangerous                      2.2.0\n",
      "jaraco.classes                    3.2.1\n",
      "jedi                              0.19.1\n",
      "jellyfish                         1.0.1\n",
      "Jinja2                            3.1.4\n",
      "jmespath                          1.0.1\n",
      "joblib                            1.4.2\n",
      "json5                             0.9.6\n",
      "jsonpatch                         1.33\n",
      "jsonpointer                       2.1\n",
      "jsonschema                        4.23.0\n",
      "jsonschema-specifications         2023.7.1\n",
      "jupyter                           1.0.0\n",
      "jupyter_client                    8.6.0\n",
      "jupyter-console                   6.6.3\n",
      "jupyter_core                      5.7.2\n",
      "jupyter-events                    0.10.0\n",
      "jupyter-lsp                       2.2.0\n",
      "jupyter_server                    2.14.1\n",
      "jupyter_server_terminals          0.4.4\n",
      "jupyterlab                        4.2.5\n",
      "jupyterlab-pygments               0.1.2\n",
      "jupyterlab_server                 2.27.3\n",
      "jupyterlab-widgets                1.0.0\n",
      "keras                             3.8.0\n",
      "keyring                           24.3.1\n",
      "kiwisolver                        1.4.4\n",
      "lazy_loader                       0.4\n",
      "lazy-object-proxy                 1.10.0\n",
      "lckr_jupyterlab_variableinspector 3.1.0\n",
      "libarchive-c                      5.1\n",
      "libclang                          18.1.1\n",
      "libmambapy                        1.5.8\n",
      "linkify-it-py                     2.0.0\n",
      "llvmlite                          0.43.0\n",
      "lmdb                              1.4.1\n",
      "locket                            1.0.0\n",
      "lxml                              5.2.1\n",
      "lz4                               4.3.2\n",
      "Mako                              1.2.3\n",
      "Markdown                          3.4.1\n",
      "markdown-it-py                    2.2.0\n",
      "MarkupSafe                        2.1.3\n",
      "matplotlib                        3.9.2\n",
      "matplotlib-inline                 0.1.6\n",
      "mccabe                            0.7.0\n",
      "mdit-py-plugins                   0.3.0\n",
      "mdurl                             0.1.0\n",
      "menuinst                          2.1.2\n",
      "mistune                           2.0.4\n",
      "mkl_fft                           1.3.10\n",
      "mkl_random                        1.2.7\n",
      "mkl-service                       2.4.0\n",
      "ml-dtypes                         0.4.1\n",
      "more-itertools                    10.3.0\n",
      "mpmath                            1.3.0\n",
      "msgpack                           1.0.3\n",
      "multidict                         6.0.4\n",
      "multipledispatch                  0.6.0\n",
      "mypy                              1.11.2\n",
      "mypy-extensions                   1.0.0\n",
      "namex                             0.0.8\n",
      "navigator-updater                 0.5.1\n",
      "nb_conda_kernels                  2.5.2\n",
      "nbclient                          0.8.0\n",
      "nbconvert                         7.16.4\n",
      "nbformat                          5.10.4\n",
      "nest-asyncio                      1.6.0\n",
      "networkx                          3.3\n",
      "nltk                              3.9.1\n",
      "notebook                          7.2.2\n",
      "notebook_shim                     0.2.3\n",
      "numba                             0.60.0\n",
      "numexpr                           2.8.7\n",
      "numpy                             1.26.4\n",
      "numpydoc                          1.7.0\n",
      "opencv-python                     4.11.0.86\n",
      "openpyxl                          3.1.5\n",
      "opt_einsum                        3.4.0\n",
      "optree                            0.14.0\n",
      "overrides                         7.4.0\n",
      "packaging                         24.1\n",
      "pandas                            2.2.2\n",
      "pandocfilters                     1.5.0\n",
      "panel                             1.5.2\n",
      "param                             2.1.1\n",
      "paramiko                          2.8.1\n",
      "parsel                            1.8.1\n",
      "parso                             0.8.3\n",
      "partd                             1.4.1\n",
      "pathspec                          0.10.3\n",
      "patsy                             0.5.6\n",
      "pexpect                           4.8.0\n",
      "pickleshare                       0.7.5\n",
      "pillow                            10.4.0\n",
      "pip                               24.2\n",
      "pkce                              1.0.3\n",
      "pkginfo                           1.10.0\n",
      "platformdirs                      3.10.0\n",
      "plotly                            5.24.1\n",
      "pluggy                            1.0.0\n",
      "ply                               3.11\n",
      "prometheus-client                 0.14.1\n",
      "prompt-toolkit                    3.0.43\n",
      "Protego                           0.1.16\n",
      "protobuf                          4.25.3\n",
      "psutil                            5.9.0\n",
      "ptyprocess                        0.7.0\n",
      "pure-eval                         0.2.2\n",
      "py-cpuinfo                        9.0.0\n",
      "pyarrow                           16.1.0\n",
      "pyasn1                            0.4.8\n",
      "pyasn1-modules                    0.2.8\n",
      "pycodestyle                       2.11.1\n",
      "pycosat                           0.6.6\n",
      "pycparser                         2.21\n",
      "pyct                              0.5.0\n",
      "pycurl                            7.45.3\n",
      "pydantic                          2.8.2\n",
      "pydantic_core                     2.20.1\n",
      "pydantic-settings                 2.6.1\n",
      "pydeck                            0.8.0\n",
      "PyDispatcher                      2.0.5\n",
      "pydocstyle                        6.3.0\n",
      "pyerfa                            2.0.1.4\n",
      "pyflakes                          3.2.0\n",
      "Pygments                          2.15.1\n",
      "PyJWT                             2.8.0\n",
      "pylint                            2.16.2\n",
      "pylint-venv                       3.0.3\n",
      "pyls-spyder                       0.4.0\n",
      "PyNaCl                            1.5.0\n",
      "pyodbc                            5.1.0\n",
      "pyOpenSSL                         24.2.1\n",
      "pyparsing                         3.1.2\n",
      "PyQt5                             5.15.10\n",
      "PyQt5-sip                         12.13.0\n",
      "PyQtWebEngine                     5.15.6\n",
      "PySocks                           1.7.1\n",
      "pytest                            7.4.4\n",
      "python-dateutil                   2.9.0.post0\n",
      "python-dotenv                     0.21.0\n",
      "python-json-logger                2.0.7\n",
      "python-lsp-black                  2.0.0\n",
      "python-lsp-jsonrpc                1.1.2\n",
      "python-lsp-server                 1.10.0\n",
      "python-slugify                    5.0.2\n",
      "pytoolconfig                      1.2.6\n",
      "pytz                              2024.1\n",
      "pyviz_comms                       3.0.2\n",
      "PyWavelets                        1.7.0\n",
      "pywin32                           305.1\n",
      "pywin32-ctypes                    0.2.2\n",
      "pywinpty                          2.0.10\n",
      "PyYAML                            6.0.1\n",
      "pyzmq                             25.1.2\n",
      "QDarkStyle                        3.2.3\n",
      "qstylizer                         0.2.2\n",
      "QtAwesome                         1.3.1\n",
      "qtconsole                         5.5.1\n",
      "QtPy                              2.4.1\n",
      "queuelib                          1.6.2\n",
      "readchar                          4.0.5\n",
      "referencing                       0.30.2\n",
      "regex                             2024.9.11\n",
      "requests                          2.32.3\n",
      "requests-file                     1.5.1\n",
      "requests-toolbelt                 1.0.0\n",
      "rfc3339-validator                 0.1.4\n",
      "rfc3986-validator                 0.1.1\n",
      "rich                              13.7.1\n",
      "rope                              1.12.0\n",
      "rpds-py                           0.10.6\n",
      "Rtree                             1.0.1\n",
      "ruamel.yaml                       0.18.6\n",
      "ruamel.yaml.clib                  0.2.8\n",
      "ruamel-yaml-conda                 0.17.21\n",
      "s3fs                              2024.6.1\n",
      "scikit-image                      0.24.0\n",
      "scikit-learn                      1.5.1\n",
      "scipy                             1.13.1\n",
      "Scrapy                            2.11.1\n",
      "seaborn                           0.13.2\n",
      "semver                            3.0.2\n",
      "Send2Trash                        1.8.2\n",
      "sentry-sdk                        2.18.0\n",
      "service-identity                  18.1.0\n",
      "setuptools                        75.1.0\n",
      "shellingham                       1.5.0\n",
      "sip                               6.7.12\n",
      "six                               1.16.0\n",
      "smart-open                        5.2.1\n",
      "smmap                             4.0.0\n",
      "sniffio                           1.3.0\n",
      "snowballstemmer                   2.2.0\n",
      "sortedcontainers                  2.4.0\n",
      "soupsieve                         2.5\n",
      "Sphinx                            7.3.7\n",
      "sphinxcontrib-applehelp           1.0.2\n",
      "sphinxcontrib-devhelp             1.0.2\n",
      "sphinxcontrib-htmlhelp            2.0.0\n",
      "sphinxcontrib-jsmath              1.0.1\n",
      "sphinxcontrib-qthelp              1.0.3\n",
      "sphinxcontrib-serializinghtml     1.1.10\n",
      "spyder                            5.5.1\n",
      "spyder-kernels                    2.5.0\n",
      "SQLAlchemy                        2.0.34\n",
      "stack-data                        0.2.0\n",
      "statsmodels                       0.14.2\n",
      "streamlit                         1.37.1\n",
      "sympy                             1.13.2\n",
      "tables                            3.10.1\n",
      "tabulate                          0.9.0\n",
      "tblib                             1.7.0\n",
      "tenacity                          8.2.3\n",
      "tensorboard                       2.18.0\n",
      "tensorboard-data-server           0.7.2\n",
      "tensorflow                        2.18.0\n",
      "tensorflow_intel                  2.18.0\n",
      "termcolor                         2.5.0\n",
      "terminado                         0.17.1\n",
      "text-unidecode                    1.3\n",
      "textdistance                      4.2.1\n",
      "threadpoolctl                     3.5.0\n",
      "three-merge                       0.1.1\n",
      "tifffile                          2023.4.12\n",
      "tinycss2                          1.2.1\n",
      "tldextract                        5.1.2\n",
      "toml                              0.10.2\n",
      "tomli                             2.0.1\n",
      "tomlkit                           0.11.1\n",
      "toolz                             0.12.0\n",
      "tornado                           6.4.1\n",
      "tqdm                              4.66.5\n",
      "traitlets                         5.14.3\n",
      "truststore                        0.8.0\n",
      "Twisted                           23.10.0\n",
      "twisted-iocpsupport               1.0.2\n",
      "typer                             0.9.0\n",
      "typing_extensions                 4.11.0\n",
      "tzdata                            2023.3\n",
      "uc-micro-py                       1.0.1\n",
      "ujson                             5.10.0\n",
      "unicodedata2                      15.1.0\n",
      "Unidecode                         1.3.8\n",
      "urllib3                           2.2.3\n",
      "w3lib                             2.1.2\n",
      "watchdog                          4.0.1\n",
      "wcwidth                           0.2.5\n",
      "webencodings                      0.5.1\n",
      "websocket-client                  1.8.0\n",
      "Werkzeug                          3.0.3\n",
      "whatthepatch                      1.0.2\n",
      "wheel                             0.44.0\n",
      "widgetsnbextension                3.6.6\n",
      "win-inet-pton                     1.1.0\n",
      "wrapt                             1.14.1\n",
      "xarray                            2023.6.0\n",
      "xlwings                           0.32.1\n",
      "xyzservices                       2022.9.0\n",
      "yapf                              0.40.2\n",
      "yarl                              1.11.0\n",
      "zict                              3.0.0\n",
      "zipp                              3.17.0\n",
      "zope.interface                    5.4.0\n",
      "zstandard                         0.23.0\n"
     ]
    }
   ],
   "source": [
    "!pip list"
   ]
  },
  {
   "cell_type": "code",
   "execution_count": 3,
   "id": "02f907ea-f669-46c7-adcf-7f257e663448",
   "metadata": {
    "tags": []
   },
   "outputs": [
    {
     "name": "stdout",
     "output_type": "stream",
     "text": [
      "Requirement already satisfied: opencv-python in c:\\users\\mrsub\\anaconda3\\lib\\site-packages (4.11.0.86)\n",
      "Requirement already satisfied: matplotlib in c:\\users\\mrsub\\anaconda3\\lib\\site-packages (3.9.2)\n",
      "Requirement already satisfied: imageio in c:\\users\\mrsub\\anaconda3\\lib\\site-packages (2.33.1)\n",
      "Requirement already satisfied: gdown in c:\\users\\mrsub\\anaconda3\\lib\\site-packages (5.2.0)\n",
      "Requirement already satisfied: tensorflow in c:\\users\\mrsub\\anaconda3\\lib\\site-packages (2.18.0)\n",
      "Requirement already satisfied: numpy>=1.21.2 in c:\\users\\mrsub\\anaconda3\\lib\\site-packages (from opencv-python) (1.26.4)\n",
      "Requirement already satisfied: contourpy>=1.0.1 in c:\\users\\mrsub\\anaconda3\\lib\\site-packages (from matplotlib) (1.2.0)\n",
      "Requirement already satisfied: cycler>=0.10 in c:\\users\\mrsub\\anaconda3\\lib\\site-packages (from matplotlib) (0.11.0)\n",
      "Requirement already satisfied: fonttools>=4.22.0 in c:\\users\\mrsub\\anaconda3\\lib\\site-packages (from matplotlib) (4.51.0)\n",
      "Requirement already satisfied: kiwisolver>=1.3.1 in c:\\users\\mrsub\\anaconda3\\lib\\site-packages (from matplotlib) (1.4.4)\n",
      "Requirement already satisfied: packaging>=20.0 in c:\\users\\mrsub\\anaconda3\\lib\\site-packages (from matplotlib) (24.1)\n",
      "Requirement already satisfied: pillow>=8 in c:\\users\\mrsub\\anaconda3\\lib\\site-packages (from matplotlib) (10.4.0)\n",
      "Requirement already satisfied: pyparsing>=2.3.1 in c:\\users\\mrsub\\anaconda3\\lib\\site-packages (from matplotlib) (3.1.2)\n",
      "Requirement already satisfied: python-dateutil>=2.7 in c:\\users\\mrsub\\anaconda3\\lib\\site-packages (from matplotlib) (2.9.0.post0)\n",
      "Requirement already satisfied: beautifulsoup4 in c:\\users\\mrsub\\anaconda3\\lib\\site-packages (from gdown) (4.12.3)\n",
      "Requirement already satisfied: filelock in c:\\users\\mrsub\\anaconda3\\lib\\site-packages (from gdown) (3.13.1)\n",
      "Requirement already satisfied: requests[socks] in c:\\users\\mrsub\\anaconda3\\lib\\site-packages (from gdown) (2.32.3)\n",
      "Requirement already satisfied: tqdm in c:\\users\\mrsub\\anaconda3\\lib\\site-packages (from gdown) (4.66.5)\n",
      "Requirement already satisfied: tensorflow-intel==2.18.0 in c:\\users\\mrsub\\anaconda3\\lib\\site-packages (from tensorflow) (2.18.0)\n",
      "Requirement already satisfied: absl-py>=1.0.0 in c:\\users\\mrsub\\anaconda3\\lib\\site-packages (from tensorflow-intel==2.18.0->tensorflow) (2.1.0)\n",
      "Requirement already satisfied: astunparse>=1.6.0 in c:\\users\\mrsub\\anaconda3\\lib\\site-packages (from tensorflow-intel==2.18.0->tensorflow) (1.6.3)\n",
      "Requirement already satisfied: flatbuffers>=24.3.25 in c:\\users\\mrsub\\anaconda3\\lib\\site-packages (from tensorflow-intel==2.18.0->tensorflow) (25.1.24)\n",
      "Requirement already satisfied: gast!=0.5.0,!=0.5.1,!=0.5.2,>=0.2.1 in c:\\users\\mrsub\\anaconda3\\lib\\site-packages (from tensorflow-intel==2.18.0->tensorflow) (0.6.0)\n",
      "Requirement already satisfied: google-pasta>=0.1.1 in c:\\users\\mrsub\\anaconda3\\lib\\site-packages (from tensorflow-intel==2.18.0->tensorflow) (0.2.0)\n",
      "Requirement already satisfied: libclang>=13.0.0 in c:\\users\\mrsub\\anaconda3\\lib\\site-packages (from tensorflow-intel==2.18.0->tensorflow) (18.1.1)\n",
      "Requirement already satisfied: opt-einsum>=2.3.2 in c:\\users\\mrsub\\anaconda3\\lib\\site-packages (from tensorflow-intel==2.18.0->tensorflow) (3.4.0)\n",
      "Requirement already satisfied: protobuf!=4.21.0,!=4.21.1,!=4.21.2,!=4.21.3,!=4.21.4,!=4.21.5,<6.0.0dev,>=3.20.3 in c:\\users\\mrsub\\anaconda3\\lib\\site-packages (from tensorflow-intel==2.18.0->tensorflow) (4.25.3)\n",
      "Requirement already satisfied: setuptools in c:\\users\\mrsub\\anaconda3\\lib\\site-packages (from tensorflow-intel==2.18.0->tensorflow) (75.1.0)\n",
      "Requirement already satisfied: six>=1.12.0 in c:\\users\\mrsub\\anaconda3\\lib\\site-packages (from tensorflow-intel==2.18.0->tensorflow) (1.16.0)\n",
      "Requirement already satisfied: termcolor>=1.1.0 in c:\\users\\mrsub\\anaconda3\\lib\\site-packages (from tensorflow-intel==2.18.0->tensorflow) (2.5.0)\n",
      "Requirement already satisfied: typing-extensions>=3.6.6 in c:\\users\\mrsub\\anaconda3\\lib\\site-packages (from tensorflow-intel==2.18.0->tensorflow) (4.11.0)\n",
      "Requirement already satisfied: wrapt>=1.11.0 in c:\\users\\mrsub\\anaconda3\\lib\\site-packages (from tensorflow-intel==2.18.0->tensorflow) (1.14.1)\n",
      "Requirement already satisfied: grpcio<2.0,>=1.24.3 in c:\\users\\mrsub\\anaconda3\\lib\\site-packages (from tensorflow-intel==2.18.0->tensorflow) (1.70.0)\n",
      "Requirement already satisfied: tensorboard<2.19,>=2.18 in c:\\users\\mrsub\\anaconda3\\lib\\site-packages (from tensorflow-intel==2.18.0->tensorflow) (2.18.0)\n",
      "Requirement already satisfied: keras>=3.5.0 in c:\\users\\mrsub\\anaconda3\\lib\\site-packages (from tensorflow-intel==2.18.0->tensorflow) (3.8.0)\n",
      "Requirement already satisfied: h5py>=3.11.0 in c:\\users\\mrsub\\anaconda3\\lib\\site-packages (from tensorflow-intel==2.18.0->tensorflow) (3.11.0)\n",
      "Requirement already satisfied: ml-dtypes<0.5.0,>=0.4.0 in c:\\users\\mrsub\\anaconda3\\lib\\site-packages (from tensorflow-intel==2.18.0->tensorflow) (0.4.1)\n",
      "Requirement already satisfied: soupsieve>1.2 in c:\\users\\mrsub\\anaconda3\\lib\\site-packages (from beautifulsoup4->gdown) (2.5)\n",
      "Requirement already satisfied: charset-normalizer<4,>=2 in c:\\users\\mrsub\\anaconda3\\lib\\site-packages (from requests[socks]->gdown) (3.3.2)\n",
      "Requirement already satisfied: idna<4,>=2.5 in c:\\users\\mrsub\\anaconda3\\lib\\site-packages (from requests[socks]->gdown) (3.7)\n",
      "Requirement already satisfied: urllib3<3,>=1.21.1 in c:\\users\\mrsub\\anaconda3\\lib\\site-packages (from requests[socks]->gdown) (2.2.3)\n",
      "Requirement already satisfied: certifi>=2017.4.17 in c:\\users\\mrsub\\anaconda3\\lib\\site-packages (from requests[socks]->gdown) (2025.1.31)\n",
      "Requirement already satisfied: PySocks!=1.5.7,>=1.5.6 in c:\\users\\mrsub\\anaconda3\\lib\\site-packages (from requests[socks]->gdown) (1.7.1)\n",
      "Requirement already satisfied: colorama in c:\\users\\mrsub\\anaconda3\\lib\\site-packages (from tqdm->gdown) (0.4.6)\n",
      "Requirement already satisfied: wheel<1.0,>=0.23.0 in c:\\users\\mrsub\\anaconda3\\lib\\site-packages (from astunparse>=1.6.0->tensorflow-intel==2.18.0->tensorflow) (0.44.0)\n",
      "Requirement already satisfied: rich in c:\\users\\mrsub\\anaconda3\\lib\\site-packages (from keras>=3.5.0->tensorflow-intel==2.18.0->tensorflow) (13.7.1)\n",
      "Requirement already satisfied: namex in c:\\users\\mrsub\\anaconda3\\lib\\site-packages (from keras>=3.5.0->tensorflow-intel==2.18.0->tensorflow) (0.0.8)\n",
      "Requirement already satisfied: optree in c:\\users\\mrsub\\anaconda3\\lib\\site-packages (from keras>=3.5.0->tensorflow-intel==2.18.0->tensorflow) (0.14.0)\n",
      "Requirement already satisfied: markdown>=2.6.8 in c:\\users\\mrsub\\anaconda3\\lib\\site-packages (from tensorboard<2.19,>=2.18->tensorflow-intel==2.18.0->tensorflow) (3.4.1)\n",
      "Requirement already satisfied: tensorboard-data-server<0.8.0,>=0.7.0 in c:\\users\\mrsub\\anaconda3\\lib\\site-packages (from tensorboard<2.19,>=2.18->tensorflow-intel==2.18.0->tensorflow) (0.7.2)\n",
      "Requirement already satisfied: werkzeug>=1.0.1 in c:\\users\\mrsub\\anaconda3\\lib\\site-packages (from tensorboard<2.19,>=2.18->tensorflow-intel==2.18.0->tensorflow) (3.0.3)\n",
      "Requirement already satisfied: MarkupSafe>=2.1.1 in c:\\users\\mrsub\\anaconda3\\lib\\site-packages (from werkzeug>=1.0.1->tensorboard<2.19,>=2.18->tensorflow-intel==2.18.0->tensorflow) (2.1.3)\n",
      "Requirement already satisfied: markdown-it-py>=2.2.0 in c:\\users\\mrsub\\anaconda3\\lib\\site-packages (from rich->keras>=3.5.0->tensorflow-intel==2.18.0->tensorflow) (2.2.0)\n",
      "Requirement already satisfied: pygments<3.0.0,>=2.13.0 in c:\\users\\mrsub\\anaconda3\\lib\\site-packages (from rich->keras>=3.5.0->tensorflow-intel==2.18.0->tensorflow) (2.15.1)\n",
      "Requirement already satisfied: mdurl~=0.1 in c:\\users\\mrsub\\anaconda3\\lib\\site-packages (from markdown-it-py>=2.2.0->rich->keras>=3.5.0->tensorflow-intel==2.18.0->tensorflow) (0.1.0)\n"
     ]
    }
   ],
   "source": [
    "!pip install opencv-python matplotlib imageio gdown tensorflow"
   ]
  },
  {
   "cell_type": "code",
   "execution_count": 4,
   "id": "b24af50c-20b8-409d-ad78-30a933fdd669",
   "metadata": {
    "tags": []
   },
   "outputs": [],
   "source": [
    "import os\n",
    "import cv2\n",
    "import tensorflow as tf\n",
    "import numpy as np\n",
    "from typing import List\n",
    "from matplotlib import pyplot as plt\n",
    "import imageio"
   ]
  },
  {
   "cell_type": "code",
   "execution_count": 5,
   "id": "1e3db0b0-e559-4ad6-91fd-e7414b7d75e6",
   "metadata": {},
   "outputs": [
    {
     "data": {
      "text/plain": [
       "[]"
      ]
     },
     "execution_count": 5,
     "metadata": {},
     "output_type": "execute_result"
    }
   ],
   "source": [
    "tf.config.list_physical_devices('GPU')"
   ]
  },
  {
   "cell_type": "code",
   "execution_count": 6,
   "id": "378d045a-3003-4f93-b7d2-a25a97774a68",
   "metadata": {
    "tags": []
   },
   "outputs": [],
   "source": [
    "physical_devices = tf.config.list_physical_devices('GPU')\n",
    "try:\n",
    "    tf.config.experimental.set_memory_growth(physical_devices[0], True)\n",
    "except:\n",
    "    pass"
   ]
  },
  {
   "cell_type": "markdown",
   "id": "7a19e88e-c7b9-45c1-ae1e-f2109329c71b",
   "metadata": {
    "tags": []
   },
   "source": [
    "# 1. Build Data Loading Functions"
   ]
  },
  {
   "cell_type": "code",
   "execution_count": 8,
   "id": "8fb99c90-e05a-437f-839d-6e772f8c1dd5",
   "metadata": {
    "tags": []
   },
   "outputs": [],
   "source": [
    "import gdown"
   ]
  },
  {
   "cell_type": "code",
   "execution_count": 28,
   "id": "c019e4c6-2af3-4160-99ea-5c8cb009f1a7",
   "metadata": {
    "tags": []
   },
   "outputs": [],
   "source": [
    "# #url = 'https://drive.google.com/uc?id=1YlvpDLix3S-U8fd-gqRwPcWXAXm8JwjL'\n",
    "# output = 'data.zip'\n",
    "# gdown.download(url, output, quiet=False)\n",
    "# gdown.extractall('data.zip')"
   ]
  },
  {
   "cell_type": "code",
   "execution_count": 30,
   "id": "8548cc59-6dfc-4acc-abc3-3e65212db02e",
   "metadata": {
    "tags": []
   },
   "outputs": [],
   "source": [
    "def load_video(path:str) -> List[float]: \n",
    "\n",
    "    cap = cv2.VideoCapture(path)\n",
    "    frames = []\n",
    "    for _ in range(int(cap.get(cv2.CAP_PROP_FRAME_COUNT))): \n",
    "        ret, frame = cap.read()\n",
    "        frame = tf.image.rgb_to_grayscale(frame)\n",
    "        frames.append(frame[190:236,80:220,:])\n",
    "    cap.release()\n",
    "    \n",
    "    mean = tf.math.reduce_mean(frames)\n",
    "    std = tf.math.reduce_std(tf.cast(frames, tf.float32))\n",
    "    return tf.cast((frames - mean), tf.float32) / std"
   ]
  },
  {
   "cell_type": "code",
   "execution_count": 32,
   "id": "ec735e0b-ec98-4eb0-8f49-c35527d6670a",
   "metadata": {
    "tags": []
   },
   "outputs": [],
   "source": [
    "vocab = [x for x in \"abcdefghijklmnopqrstuvwxyz'?!123456789 \"]"
   ]
  },
  {
   "cell_type": "code",
   "execution_count": 34,
   "id": "be04e972-d7a5-4a72-82d8-a6bdde1f3ce6",
   "metadata": {
    "tags": []
   },
   "outputs": [
    {
     "name": "stdout",
     "output_type": "stream",
     "text": [
      "The vocabulary is: ['', 'a', 'b', 'c', 'd', 'e', 'f', 'g', 'h', 'i', 'j', 'k', 'l', 'm', 'n', 'o', 'p', 'q', 'r', 's', 't', 'u', 'v', 'w', 'x', 'y', 'z', \"'\", '?', '!', '1', '2', '3', '4', '5', '6', '7', '8', '9', ' '] (size =40)\n"
     ]
    }
   ],
   "source": [
    "char_to_num = tf.keras.layers.StringLookup(vocabulary=vocab, oov_token=\"\")\n",
    "num_to_char = tf.keras.layers.StringLookup(\n",
    "    vocabulary=char_to_num.get_vocabulary(), oov_token=\"\", invert=True\n",
    ")\n",
    "\n",
    "print(\n",
    "    f\"The vocabulary is: {char_to_num.get_vocabulary()} \"\n",
    "    f\"(size ={char_to_num.vocabulary_size()})\"\n",
    ")"
   ]
  },
  {
   "cell_type": "code",
   "execution_count": 36,
   "id": "559f7420-6802-45fa-9ca0-b1ff209b461c",
   "metadata": {
    "tags": []
   },
   "outputs": [
    {
     "data": {
      "text/plain": [
       "['',\n",
       " 'a',\n",
       " 'b',\n",
       " 'c',\n",
       " 'd',\n",
       " 'e',\n",
       " 'f',\n",
       " 'g',\n",
       " 'h',\n",
       " 'i',\n",
       " 'j',\n",
       " 'k',\n",
       " 'l',\n",
       " 'm',\n",
       " 'n',\n",
       " 'o',\n",
       " 'p',\n",
       " 'q',\n",
       " 'r',\n",
       " 's',\n",
       " 't',\n",
       " 'u',\n",
       " 'v',\n",
       " 'w',\n",
       " 'x',\n",
       " 'y',\n",
       " 'z',\n",
       " \"'\",\n",
       " '?',\n",
       " '!',\n",
       " '1',\n",
       " '2',\n",
       " '3',\n",
       " '4',\n",
       " '5',\n",
       " '6',\n",
       " '7',\n",
       " '8',\n",
       " '9',\n",
       " ' ']"
      ]
     },
     "execution_count": 36,
     "metadata": {},
     "output_type": "execute_result"
    }
   ],
   "source": [
    "char_to_num.get_vocabulary()"
   ]
  },
  {
   "cell_type": "code",
   "execution_count": 38,
   "id": "797ff78b-b48f-4e14-bb62-8cd0ebf9501a",
   "metadata": {
    "tags": []
   },
   "outputs": [
    {
     "data": {
      "text/plain": [
       "<tf.Tensor: shape=(4,), dtype=int64, numpy=array([14,  9,  3, 11], dtype=int64)>"
      ]
     },
     "execution_count": 38,
     "metadata": {},
     "output_type": "execute_result"
    }
   ],
   "source": [
    "char_to_num(['n','i','c','k'])"
   ]
  },
  {
   "cell_type": "code",
   "execution_count": 40,
   "id": "8cd7f4f4-ae77-4509-a4f4-c723787ebad1",
   "metadata": {},
   "outputs": [
    {
     "data": {
      "text/plain": [
       "<tf.Tensor: shape=(4,), dtype=string, numpy=array([b'n', b'i', b'c', b'k'], dtype=object)>"
      ]
     },
     "execution_count": 40,
     "metadata": {},
     "output_type": "execute_result"
    }
   ],
   "source": [
    "num_to_char([14,  9,  3, 11])"
   ]
  },
  {
   "cell_type": "code",
   "execution_count": 42,
   "id": "9491bab5-6a3c-4f79-879a-8f9fbe73ae2e",
   "metadata": {
    "tags": []
   },
   "outputs": [],
   "source": [
    "def load_alignments(path:str) -> List[str]: \n",
    "    with open(path, 'r') as f: \n",
    "        lines = f.readlines() \n",
    "    tokens = []\n",
    "    for line in lines:\n",
    "        line = line.split()\n",
    "        if line[2] != 'sil': \n",
    "            tokens = [*tokens,' ',line[2]]\n",
    "    return char_to_num(tf.reshape(tf.strings.unicode_split(tokens, input_encoding='UTF-8'), (-1)))[1:]"
   ]
  },
  {
   "cell_type": "code",
   "execution_count": 44,
   "id": "dd01ca9f-77fb-4643-a2aa-47dd82c5d66b",
   "metadata": {
    "tags": []
   },
   "outputs": [],
   "source": [
    "def load_data(path: str): \n",
    "    path = bytes.decode(path.numpy())\n",
    "    #file_name = path.split('/')[-1].split('.')[0]\n",
    "    # File name splitting for windows\n",
    "    file_name = path.split('\\\\')[-1].split('.')[0]\n",
    "    video_path = os.path.join('data','s1',f'{file_name}.mpg')\n",
    "    alignment_path = os.path.join('data','alignments','s1',f'{file_name}.align')\n",
    "    frames = load_video(video_path) \n",
    "    alignments = load_alignments(alignment_path)\n",
    "    \n",
    "    return frames, alignments"
   ]
  },
  {
   "cell_type": "code",
   "execution_count": 46,
   "id": "8cb7cc58-31ae-4904-a805-1177a82717d2",
   "metadata": {
    "tags": []
   },
   "outputs": [],
   "source": [
    "test_path = '.\\\\data\\\\s1\\\\bbal6n.mpg'"
   ]
  },
  {
   "cell_type": "code",
   "execution_count": 48,
   "id": "76aa964f-0c84-490d-897a-d00e3966e2c9",
   "metadata": {},
   "outputs": [
    {
     "data": {
      "text/plain": [
       "'bbal6n'"
      ]
     },
     "execution_count": 48,
     "metadata": {},
     "output_type": "execute_result"
    }
   ],
   "source": [
    "tf.convert_to_tensor(test_path).numpy().decode('utf-8').split('\\\\')[-1].split('.')[0]"
   ]
  },
  {
   "cell_type": "code",
   "execution_count": 50,
   "id": "eb602c71-8560-4f9e-b26b-08202febb937",
   "metadata": {
    "scrolled": true,
    "tags": []
   },
   "outputs": [],
   "source": [
    "frames, alignments = load_data(tf.convert_to_tensor(test_path))"
   ]
  },
  {
   "cell_type": "code",
   "execution_count": 52,
   "id": "0e3184a1-6b02-4b4f-84a8-a0a65f951ea2",
   "metadata": {},
   "outputs": [
    {
     "data": {
      "text/plain": [
       "<matplotlib.image.AxesImage at 0x252bd73a840>"
      ]
     },
     "execution_count": 52,
     "metadata": {},
     "output_type": "execute_result"
    },
    {
     "data": {
      "image/png": "[encoded data removed]",
      "text/plain": [
       "<Figure size 640x480 with 1 Axes>"
      ]
     },
     "metadata": {},
     "output_type": "display_data"
    }
   ],
   "source": [
    "plt.imshow(frames[40])"
   ]
  },
  {
   "cell_type": "code",
   "execution_count": 54,
   "id": "d7ec0833-d54b-4073-84cf-92d011c60ec1",
   "metadata": {},
   "outputs": [
    {
     "data": {
      "text/plain": [
       "<tf.Tensor: shape=(21,), dtype=int64, numpy=\n",
       "array([ 2,  9, 14, 39,  2, 12, 21,  5, 39,  1, 20, 39, 12, 39, 19,  9, 24,\n",
       "       39, 14, 15, 23], dtype=int64)>"
      ]
     },
     "execution_count": 54,
     "metadata": {},
     "output_type": "execute_result"
    }
   ],
   "source": [
    "alignments"
   ]
  },
  {
   "cell_type": "code",
   "execution_count": 56,
   "id": "fe1ad370-b287-4b46-85a2-7c45b0bd9b10",
   "metadata": {},
   "outputs": [
    {
     "data": {
      "text/plain": [
       "<tf.Tensor: shape=(), dtype=string, numpy=b'bin blue at l six now'>"
      ]
     },
     "execution_count": 56,
     "metadata": {},
     "output_type": "execute_result"
    }
   ],
   "source": [
    "tf.strings.reduce_join([bytes.decode(x) for x in num_to_char(alignments.numpy()).numpy()])"
   ]
  },
  {
   "cell_type": "code",
   "execution_count": 58,
   "id": "6871031a-b0ba-4c76-a852-f6329b0f2606",
   "metadata": {
    "tags": []
   },
   "outputs": [],
   "source": [
    "def mappable_function(path:str) ->List[str]:\n",
    "    result = tf.py_function(load_data, [path], (tf.float32, tf.int64))\n",
    "    return result"
   ]
  },
  {
   "cell_type": "markdown",
   "id": "c40a7eb4-0c3e-4eab-9291-5611cb68ce08",
   "metadata": {
    "tags": []
   },
   "source": [
    "# 2. Create Data Pipeline"
   ]
  },
  {
   "cell_type": "code",
   "execution_count": 61,
   "id": "7686355d-45aa-4c85-ad9c-053e6a9b4d81",
   "metadata": {
    "tags": []
   },
   "outputs": [],
   "source": [
    "from matplotlib import pyplot as plt"
   ]
  },
  {
   "cell_type": "code",
   "execution_count": 63,
   "id": "f066fea2-91b1-42ed-a67d-00566a1a53ff",
   "metadata": {
    "tags": []
   },
   "outputs": [],
   "source": [
    "data = tf.data.Dataset.list_files('./data/s1/*.mpg')\n",
    "data = data.shuffle(500, reshuffle_each_iteration=False)\n",
    "data = data.map(mappable_function)\n",
    "data = data.padded_batch(2, padded_shapes=([75,None,None,None],[40]))\n",
    "data = data.prefetch(tf.data.AUTOTUNE)\n",
    "# Added for split \n",
    "train = data.take(450)\n",
    "test = data.skip(450)"
   ]
  },
  {
   "cell_type": "code",
   "execution_count": 65,
   "id": "6b1365bd-7742-41d1-95d4-247021751c3a",
   "metadata": {},
   "outputs": [
    {
     "data": {
      "text/plain": [
       "50"
      ]
     },
     "execution_count": 65,
     "metadata": {},
     "output_type": "execute_result"
    }
   ],
   "source": [
    "len(test)"
   ]
  },
  {
   "cell_type": "code",
   "execution_count": 67,
   "id": "5281bde8-fdc8-4da1-bd55-5a7929a9e80c",
   "metadata": {},
   "outputs": [],
   "source": [
    "frames, alignments = data.as_numpy_iterator().next()"
   ]
  },
  {
   "cell_type": "code",
   "execution_count": 69,
   "id": "cbebe683-6afd-47fd-bba4-c83b4b13bb32",
   "metadata": {},
   "outputs": [
    {
     "data": {
      "text/plain": [
       "2"
      ]
     },
     "execution_count": 69,
     "metadata": {},
     "output_type": "execute_result"
    }
   ],
   "source": [
    "len(frames)"
   ]
  },
  {
   "cell_type": "code",
   "execution_count": 71,
   "id": "5cf2d676-93a9-434c-b3c7-bdcc2577b2e7",
   "metadata": {
    "tags": []
   },
   "outputs": [],
   "source": [
    "sample = data.as_numpy_iterator()"
   ]
  },
  {
   "cell_type": "code",
   "execution_count": 73,
   "id": "efa6cd46-7079-46c0-b45b-832f339f6cb0",
   "metadata": {
    "scrolled": true,
    "tags": []
   },
   "outputs": [
    {
     "data": {
      "text/plain": [
       "array([[[[[1.3949717 ],\n",
       "          [1.3949717 ],\n",
       "          [1.3572698 ],\n",
       "          ...,\n",
       "          [8.973061  ],\n",
       "          [9.3500805 ],\n",
       "          [9.425485  ]],\n",
       "\n",
       "         [[1.3949717 ],\n",
       "          [1.3949717 ],\n",
       "          [1.3572698 ],\n",
       "          ...,\n",
       "          [8.784552  ],\n",
       "          [9.3500805 ],\n",
       "          [9.576292  ]],\n",
       "\n",
       "         [[1.3195678 ],\n",
       "          [1.3195678 ],\n",
       "          [1.3195678 ],\n",
       "          ...,\n",
       "          [0.11310581],\n",
       "          [0.15080775],\n",
       "          [0.15080775]],\n",
       "\n",
       "         ...,\n",
       "\n",
       "         [[0.98025036],\n",
       "          [0.98025036],\n",
       "          [0.98025036],\n",
       "          ...,\n",
       "          [9.387782  ],\n",
       "          [9.425485  ],\n",
       "          [9.463186  ]],\n",
       "\n",
       "         [[0.94254845],\n",
       "          [0.94254845],\n",
       "          [0.9048465 ],\n",
       "          ...,\n",
       "          [9.274676  ],\n",
       "          [9.3500805 ],\n",
       "          [9.387782  ]],\n",
       "\n",
       "         [[0.9048465 ],\n",
       "          [0.9048465 ],\n",
       "          [0.9048465 ],\n",
       "          ...,\n",
       "          [9.3500805 ],\n",
       "          [9.463186  ],\n",
       "          [9.312379  ]]],\n",
       "\n",
       "\n",
       "        [[[1.3195678 ],\n",
       "          [1.3195678 ],\n",
       "          [1.3195678 ],\n",
       "          ...,\n",
       "          [9.010763  ],\n",
       "          [9.3500805 ],\n",
       "          [9.463186  ]],\n",
       "\n",
       "         [[1.3195678 ],\n",
       "          [1.3195678 ],\n",
       "          [1.3195678 ],\n",
       "          ...,\n",
       "          [8.973061  ],\n",
       "          [9.613994  ],\n",
       "          [0.        ]],\n",
       "\n",
       "         [[1.3195678 ],\n",
       "          [1.3195678 ],\n",
       "          [1.3195678 ],\n",
       "          ...,\n",
       "          [0.11310581],\n",
       "          [0.11310581],\n",
       "          [0.11310581]],\n",
       "\n",
       "         ...,\n",
       "\n",
       "         [[0.98025036],\n",
       "          [0.98025036],\n",
       "          [0.98025036],\n",
       "          ...,\n",
       "          [9.387782  ],\n",
       "          [9.576292  ],\n",
       "          [9.576292  ]],\n",
       "\n",
       "         [[0.94254845],\n",
       "          [0.94254845],\n",
       "          [0.9048465 ],\n",
       "          ...,\n",
       "          [9.274676  ],\n",
       "          [9.500888  ],\n",
       "          [9.53859   ]],\n",
       "\n",
       "         [[0.94254845],\n",
       "          [0.94254845],\n",
       "          [0.94254845],\n",
       "          ...,\n",
       "          [9.3500805 ],\n",
       "          [9.500888  ],\n",
       "          [9.425485  ]]],\n",
       "\n",
       "\n",
       "        [[[1.3572698 ],\n",
       "          [1.3572698 ],\n",
       "          [1.3572698 ],\n",
       "          ...,\n",
       "          [9.010763  ],\n",
       "          [9.387782  ],\n",
       "          [9.500888  ]],\n",
       "\n",
       "         [[1.3572698 ],\n",
       "          [1.3572698 ],\n",
       "          [1.3572698 ],\n",
       "          ...,\n",
       "          [8.973061  ],\n",
       "          [9.500888  ],\n",
       "          [9.613994  ]],\n",
       "\n",
       "         [[1.3195678 ],\n",
       "          [1.3195678 ],\n",
       "          [1.3195678 ],\n",
       "          ...,\n",
       "          [9.613994  ],\n",
       "          [0.22621162],\n",
       "          [0.22621162]],\n",
       "\n",
       "         ...,\n",
       "\n",
       "         [[1.0179523 ],\n",
       "          [1.0179523 ],\n",
       "          [1.0179523 ],\n",
       "          ...,\n",
       "          [9.3500805 ],\n",
       "          [9.576292  ],\n",
       "          [9.576292  ]],\n",
       "\n",
       "         [[0.98025036],\n",
       "          [0.98025036],\n",
       "          [0.94254845],\n",
       "          ...,\n",
       "          [9.161571  ],\n",
       "          [9.500888  ],\n",
       "          [9.53859   ]],\n",
       "\n",
       "         [[0.98025036],\n",
       "          [0.98025036],\n",
       "          [0.98025036],\n",
       "          ...,\n",
       "          [9.312379  ],\n",
       "          [9.500888  ],\n",
       "          [9.425485  ]]],\n",
       "\n",
       "\n",
       "        ...,\n",
       "\n",
       "\n",
       "        [[[1.3572698 ],\n",
       "          [1.3572698 ],\n",
       "          [1.3572698 ],\n",
       "          ...,\n",
       "          [9.500888  ],\n",
       "          [0.22621162],\n",
       "          [0.11310581]],\n",
       "\n",
       "         [[1.3195678 ],\n",
       "          [1.3195678 ],\n",
       "          [1.3195678 ],\n",
       "          ...,\n",
       "          [9.613994  ],\n",
       "          [0.07540388],\n",
       "          [0.03770194]],\n",
       "\n",
       "         [[1.3572698 ],\n",
       "          [1.3572698 ],\n",
       "          [1.3572698 ],\n",
       "          ...,\n",
       "          [0.18850969],\n",
       "          [0.18850969],\n",
       "          [0.18850969]],\n",
       "\n",
       "         ...,\n",
       "\n",
       "         [[0.98025036],\n",
       "          [0.94254845],\n",
       "          [0.9048465 ],\n",
       "          ...,\n",
       "          [9.387782  ],\n",
       "          [9.500888  ],\n",
       "          [9.613994  ]],\n",
       "\n",
       "         [[0.98025036],\n",
       "          [0.94254845],\n",
       "          [0.9048465 ],\n",
       "          ...,\n",
       "          [9.274676  ],\n",
       "          [9.387782  ],\n",
       "          [9.500888  ]],\n",
       "\n",
       "         [[0.98025036],\n",
       "          [0.94254845],\n",
       "          [0.9048465 ],\n",
       "          ...,\n",
       "          [9.3500805 ],\n",
       "          [9.387782  ],\n",
       "          [9.387782  ]]],\n",
       "\n",
       "\n",
       "        [[[1.3572698 ],\n",
       "          [1.3572698 ],\n",
       "          [1.3572698 ],\n",
       "          ...,\n",
       "          [9.53859   ],\n",
       "          [0.11310581],\n",
       "          [0.07540388]],\n",
       "\n",
       "         [[1.3195678 ],\n",
       "          [1.3195678 ],\n",
       "          [1.3195678 ],\n",
       "          ...,\n",
       "          [9.463186  ],\n",
       "          [0.07540388],\n",
       "          [0.03770194]],\n",
       "\n",
       "         [[1.2818658 ],\n",
       "          [1.2818658 ],\n",
       "          [1.2818658 ],\n",
       "          ...,\n",
       "          [0.11310581],\n",
       "          [0.11310581],\n",
       "          [0.11310581]],\n",
       "\n",
       "         ...,\n",
       "\n",
       "         [[0.94254845],\n",
       "          [0.94254845],\n",
       "          [0.94254845],\n",
       "          ...,\n",
       "          [9.53859   ],\n",
       "          [9.613994  ],\n",
       "          [9.53859   ]],\n",
       "\n",
       "         [[0.94254845],\n",
       "          [0.94254845],\n",
       "          [0.94254845],\n",
       "          ...,\n",
       "          [9.3500805 ],\n",
       "          [9.53859   ],\n",
       "          [9.425485  ]],\n",
       "\n",
       "         [[0.94254845],\n",
       "          [0.94254845],\n",
       "          [0.94254845],\n",
       "          ...,\n",
       "          [9.3500805 ],\n",
       "          [9.500888  ],\n",
       "          [9.500888  ]]],\n",
       "\n",
       "\n",
       "        [[[1.3949717 ],\n",
       "          [1.3949717 ],\n",
       "          [1.3949717 ],\n",
       "          ...,\n",
       "          [9.500888  ],\n",
       "          [0.07540388],\n",
       "          [0.03770194]],\n",
       "\n",
       "         [[1.3572698 ],\n",
       "          [1.3572698 ],\n",
       "          [1.3572698 ],\n",
       "          ...,\n",
       "          [9.463186  ],\n",
       "          [0.07540388],\n",
       "          [0.        ]],\n",
       "\n",
       "         [[1.3195678 ],\n",
       "          [1.3195678 ],\n",
       "          [1.3195678 ],\n",
       "          ...,\n",
       "          [0.15080775],\n",
       "          [0.18850969],\n",
       "          [0.15080775]],\n",
       "\n",
       "         ...,\n",
       "\n",
       "         [[0.94254845],\n",
       "          [0.94254845],\n",
       "          [0.94254845],\n",
       "          ...,\n",
       "          [9.463186  ],\n",
       "          [9.500888  ],\n",
       "          [9.500888  ]],\n",
       "\n",
       "         [[0.94254845],\n",
       "          [0.94254845],\n",
       "          [0.94254845],\n",
       "          ...,\n",
       "          [9.236975  ],\n",
       "          [9.53859   ],\n",
       "          [9.425485  ]],\n",
       "\n",
       "         [[0.94254845],\n",
       "          [0.94254845],\n",
       "          [0.94254845],\n",
       "          ...,\n",
       "          [9.312379  ],\n",
       "          [9.500888  ],\n",
       "          [9.500888  ]]]],\n",
       "\n",
       "\n",
       "\n",
       "       [[[[1.6803839 ],\n",
       "          [1.4894313 ],\n",
       "          [1.4512407 ],\n",
       "          ...,\n",
       "          [0.3437149 ],\n",
       "          [0.30552435],\n",
       "          [0.30552435]],\n",
       "\n",
       "         [[1.6803839 ],\n",
       "          [1.6040028 ],\n",
       "          [1.4512407 ],\n",
       "          ...,\n",
       "          [0.3437149 ],\n",
       "          [0.30552435],\n",
       "          [0.30552435]],\n",
       "\n",
       "         [[1.5658123 ],\n",
       "          [1.5658123 ],\n",
       "          [1.5276217 ],\n",
       "          ...,\n",
       "          [0.3437149 ],\n",
       "          [0.30552435],\n",
       "          [0.30552435]],\n",
       "\n",
       "         ...,\n",
       "\n",
       "         [[1.0311447 ],\n",
       "          [1.0311447 ],\n",
       "          [1.0311447 ],\n",
       "          ...,\n",
       "          [0.03819054],\n",
       "          [0.03819054],\n",
       "          [0.03819054]],\n",
       "\n",
       "         [[1.0311447 ],\n",
       "          [1.0311447 ],\n",
       "          [1.0311447 ],\n",
       "          ...,\n",
       "          [0.03819054],\n",
       "          [0.03819054],\n",
       "          [0.03819054]],\n",
       "\n",
       "         [[1.0311447 ],\n",
       "          [1.0311447 ],\n",
       "          [1.0311447 ],\n",
       "          ...,\n",
       "          [0.03819054],\n",
       "          [0.03819054],\n",
       "          [0.        ]]],\n",
       "\n",
       "\n",
       "        [[[1.6803839 ],\n",
       "          [1.4512407 ],\n",
       "          [1.5276217 ],\n",
       "          ...,\n",
       "          [0.2673338 ],\n",
       "          [0.19095272],\n",
       "          [0.2673338 ]],\n",
       "\n",
       "         [[1.7185745 ],\n",
       "          [1.6421934 ],\n",
       "          [1.3748596 ],\n",
       "          ...,\n",
       "          [0.2673338 ],\n",
       "          [0.19095272],\n",
       "          [0.2673338 ]],\n",
       "\n",
       "         [[1.5276217 ],\n",
       "          [1.5276217 ],\n",
       "          [1.4894313 ],\n",
       "          ...,\n",
       "          [0.3437149 ],\n",
       "          [0.30552435],\n",
       "          [0.30552435]],\n",
       "\n",
       "         ...,\n",
       "\n",
       "         [[1.1075258 ],\n",
       "          [1.1075258 ],\n",
       "          [1.1075258 ],\n",
       "          ...,\n",
       "          [0.03819054],\n",
       "          [0.        ],\n",
       "          [0.        ]],\n",
       "\n",
       "         [[1.0693352 ],\n",
       "          [1.0693352 ],\n",
       "          [1.0693352 ],\n",
       "          ...,\n",
       "          [0.        ],\n",
       "          [0.        ],\n",
       "          [0.        ]],\n",
       "\n",
       "         [[1.0693352 ],\n",
       "          [1.0693352 ],\n",
       "          [1.0693352 ],\n",
       "          ...,\n",
       "          [0.        ],\n",
       "          [0.        ],\n",
       "          [9.738588  ]]],\n",
       "\n",
       "\n",
       "        [[[1.6421934 ],\n",
       "          [1.3748596 ],\n",
       "          [1.4894313 ],\n",
       "          ...,\n",
       "          [0.22914326],\n",
       "          [0.19095272],\n",
       "          [0.22914326]],\n",
       "\n",
       "         [[1.6040028 ],\n",
       "          [1.4130502 ],\n",
       "          [1.2984785 ],\n",
       "          ...,\n",
       "          [0.30552435],\n",
       "          [0.22914326],\n",
       "          [0.22914326]],\n",
       "\n",
       "         [[1.5276217 ],\n",
       "          [1.4512407 ],\n",
       "          [1.4512407 ],\n",
       "          ...,\n",
       "          [0.2673338 ],\n",
       "          [0.2673338 ],\n",
       "          [0.2673338 ]],\n",
       "\n",
       "         ...,\n",
       "\n",
       "         [[1.0693352 ],\n",
       "          [1.0693352 ],\n",
       "          [1.0693352 ],\n",
       "          ...,\n",
       "          [9.738588  ],\n",
       "          [9.738588  ],\n",
       "          [9.738588  ]],\n",
       "\n",
       "         [[1.0311447 ],\n",
       "          [1.0311447 ],\n",
       "          [1.0311447 ],\n",
       "          ...,\n",
       "          [9.738588  ],\n",
       "          [9.738588  ],\n",
       "          [9.662208  ]],\n",
       "\n",
       "         [[1.0311447 ],\n",
       "          [1.0311447 ],\n",
       "          [1.0311447 ],\n",
       "          ...,\n",
       "          [9.738588  ],\n",
       "          [9.738588  ],\n",
       "          [9.662208  ]]],\n",
       "\n",
       "\n",
       "        ...,\n",
       "\n",
       "\n",
       "        [[[1.4512407 ],\n",
       "          [1.5658123 ],\n",
       "          [1.4130502 ],\n",
       "          ...,\n",
       "          [0.3437149 ],\n",
       "          [0.3437149 ],\n",
       "          [0.3437149 ]],\n",
       "\n",
       "         [[1.4130502 ],\n",
       "          [1.5276217 ],\n",
       "          [1.5276217 ],\n",
       "          ...,\n",
       "          [0.3437149 ],\n",
       "          [0.3437149 ],\n",
       "          [0.3437149 ]],\n",
       "\n",
       "         [[1.5658123 ],\n",
       "          [1.5658123 ],\n",
       "          [1.4894313 ],\n",
       "          ...,\n",
       "          [0.3437149 ],\n",
       "          [0.3437149 ],\n",
       "          [0.2673338 ]],\n",
       "\n",
       "         ...,\n",
       "\n",
       "         [[1.1075258 ],\n",
       "          [1.1075258 ],\n",
       "          [1.1075258 ],\n",
       "          ...,\n",
       "          [0.03819054],\n",
       "          [0.03819054],\n",
       "          [0.03819054]],\n",
       "\n",
       "         [[1.1075258 ],\n",
       "          [1.1075258 ],\n",
       "          [1.1075258 ],\n",
       "          ...,\n",
       "          [0.03819054],\n",
       "          [0.03819054],\n",
       "          [0.        ]],\n",
       "\n",
       "         [[1.1075258 ],\n",
       "          [1.1075258 ],\n",
       "          [1.0693352 ],\n",
       "          ...,\n",
       "          [0.03819054],\n",
       "          [0.        ],\n",
       "          [0.        ]]],\n",
       "\n",
       "\n",
       "        [[[1.5276217 ],\n",
       "          [1.5276217 ],\n",
       "          [1.2220974 ],\n",
       "          ...,\n",
       "          [0.3437149 ],\n",
       "          [0.3437149 ],\n",
       "          [0.3437149 ]],\n",
       "\n",
       "         [[1.4512407 ],\n",
       "          [1.4512407 ],\n",
       "          [1.4894313 ],\n",
       "          ...,\n",
       "          [0.3437149 ],\n",
       "          [0.3437149 ],\n",
       "          [0.3437149 ]],\n",
       "\n",
       "         [[1.5276217 ],\n",
       "          [1.5276217 ],\n",
       "          [1.4894313 ],\n",
       "          ...,\n",
       "          [0.38190544],\n",
       "          [0.3437149 ],\n",
       "          [0.3437149 ]],\n",
       "\n",
       "         ...,\n",
       "\n",
       "         [[1.1075258 ],\n",
       "          [1.1075258 ],\n",
       "          [1.1075258 ],\n",
       "          ...,\n",
       "          [0.03819054],\n",
       "          [0.03819054],\n",
       "          [0.03819054]],\n",
       "\n",
       "         [[1.1075258 ],\n",
       "          [1.1075258 ],\n",
       "          [1.1075258 ],\n",
       "          ...,\n",
       "          [0.03819054],\n",
       "          [0.03819054],\n",
       "          [0.03819054]],\n",
       "\n",
       "         [[1.1075258 ],\n",
       "          [1.1075258 ],\n",
       "          [1.0693352 ],\n",
       "          ...,\n",
       "          [0.03819054],\n",
       "          [0.03819054],\n",
       "          [0.        ]]],\n",
       "\n",
       "\n",
       "        [[[1.4894313 ],\n",
       "          [1.4894313 ],\n",
       "          [1.260288  ],\n",
       "          ...,\n",
       "          [0.38190544],\n",
       "          [0.3437149 ],\n",
       "          [0.3437149 ]],\n",
       "\n",
       "         [[1.6040028 ],\n",
       "          [1.4512407 ],\n",
       "          [1.4894313 ],\n",
       "          ...,\n",
       "          [0.38190544],\n",
       "          [0.3437149 ],\n",
       "          [0.3437149 ]],\n",
       "\n",
       "         [[1.6040028 ],\n",
       "          [1.5276217 ],\n",
       "          [1.4894313 ],\n",
       "          ...,\n",
       "          [0.38190544],\n",
       "          [0.3437149 ],\n",
       "          [0.3437149 ]],\n",
       "\n",
       "         ...,\n",
       "\n",
       "         [[1.0693352 ],\n",
       "          [1.0693352 ],\n",
       "          [1.0693352 ],\n",
       "          ...,\n",
       "          [0.03819054],\n",
       "          [0.03819054],\n",
       "          [0.03819054]],\n",
       "\n",
       "         [[1.0693352 ],\n",
       "          [1.0693352 ],\n",
       "          [1.0693352 ],\n",
       "          ...,\n",
       "          [0.03819054],\n",
       "          [0.03819054],\n",
       "          [0.03819054]],\n",
       "\n",
       "         [[1.0693352 ],\n",
       "          [1.0693352 ],\n",
       "          [1.0311447 ],\n",
       "          ...,\n",
       "          [0.03819054],\n",
       "          [0.03819054],\n",
       "          [0.        ]]]]], dtype=float32)"
      ]
     },
     "execution_count": 73,
     "metadata": {},
     "output_type": "execute_result"
    }
   ],
   "source": [
    "val = sample.next(); val[0]"
   ]
  },
  {
   "cell_type": "code",
   "execution_count": 79,
   "id": "2f002ce9-2296-439d-9764-583b4cffef4d",
   "metadata": {},
   "outputs": [
    {
     "name": "stdout",
     "output_type": "stream",
     "text": [
      "Collecting imageio==2.23.0\n",
      "  Downloading imageio-2.23.0-py3-none-any.whl.metadata (5.0 kB)\n",
      "Requirement already satisfied: numpy in c:\\users\\mrsub\\anaconda3\\lib\\site-packages (from imageio==2.23.0) (1.26.4)\n",
      "Requirement already satisfied: pillow>=8.3.2 in c:\\users\\mrsub\\anaconda3\\lib\\site-packages (from imageio==2.23.0) (10.4.0)\n",
      "Downloading imageio-2.23.0-py3-none-any.whl (3.4 MB)\n",
      "   ---------------------------------------- 0.0/3.4 MB ? eta -:--:--\n",
      "   ---------------------------------------- 0.0/3.4 MB ? eta -:--:--\n",
      "   ---------------------------------------- 0.0/3.4 MB ? eta -:--:--\n",
      "   ---------------------------------------- 0.0/3.4 MB ? eta -:--:--\n",
      "   ---------------------------------------- 0.0/3.4 MB ? eta -:--:--\n",
      "   ---------------------------------------- 0.0/3.4 MB ? eta -:--:--\n",
      "   ---------------------------------------- 0.0/3.4 MB ? eta -:--:--\n",
      "   ---------------------------------------- 0.0/3.4 MB ? eta -:--:--\n",
      "   ---------------------------------------- 0.0/3.4 MB ? eta -:--:--\n",
      "   ---------------------------------------- 0.0/3.4 MB ? eta -:--:--\n",
      "   ---------------------------------------- 0.0/3.4 MB ? eta -:--:--\n",
      "   ---------------------------------------- 0.0/3.4 MB ? eta -:--:--\n",
      "   ---------------------------------------- 0.0/3.4 MB ? eta -:--:--\n",
      "   ---------------------------------------- 0.0/3.4 MB ? eta -:--:--\n",
      "   ---------------------------------------- 0.0/3.4 MB ? eta -:--:--\n",
      "   ---------------------------------------- 0.0/3.4 MB ? eta -:--:--\n",
      "   ---------------------------------------- 0.0/3.4 MB ? eta -:--:--\n",
      "   ---------------------------------------- 0.0/3.4 MB ? eta -:--:--\n",
      "   ---------------------------------------- 0.0/3.4 MB ? eta -:--:--\n",
      "   ---------------------------------------- 0.0/3.4 MB ? eta -:--:--\n",
      "   ---------------------------------------- 0.0/3.4 MB ? eta -:--:--\n",
      "   ---------------------------------------- 0.0/3.4 MB ? eta -:--:--\n",
      "   --- ------------------------------------ 0.3/3.4 MB ? eta -:--:--\n",
      "   --- ------------------------------------ 0.3/3.4 MB ? eta -:--:--\n",
      "   --- ------------------------------------ 0.3/3.4 MB ? eta -:--:--\n",
      "   --- ------------------------------------ 0.3/3.4 MB ? eta -:--:--\n",
      "   --- ------------------------------------ 0.3/3.4 MB ? eta -:--:--\n",
      "   --- ------------------------------------ 0.3/3.4 MB ? eta -:--:--\n",
      "   --- ------------------------------------ 0.3/3.4 MB ? eta -:--:--\n",
      "   --- ------------------------------------ 0.3/3.4 MB ? eta -:--:--\n",
      "   --- ------------------------------------ 0.3/3.4 MB ? eta -:--:--\n",
      "   --- ------------------------------------ 0.3/3.4 MB ? eta -:--:--\n",
      "   --- ------------------------------------ 0.3/3.4 MB ? eta -:--:--\n",
      "   --- ------------------------------------ 0.3/3.4 MB ? eta -:--:--\n",
      "   --- ------------------------------------ 0.3/3.4 MB ? eta -:--:--\n",
      "   --- ------------------------------------ 0.3/3.4 MB ? eta -:--:--\n",
      "   --- ------------------------------------ 0.3/3.4 MB ? eta -:--:--\n",
      "   --- ------------------------------------ 0.3/3.4 MB ? eta -:--:--\n",
      "   --- ------------------------------------ 0.3/3.4 MB ? eta -:--:--\n",
      "   --- ------------------------------------ 0.3/3.4 MB ? eta -:--:--\n",
      "   --- ------------------------------------ 0.3/3.4 MB ? eta -:--:--\n",
      "   --- ------------------------------------ 0.3/3.4 MB ? eta -:--:--\n",
      "   --- ------------------------------------ 0.3/3.4 MB ? eta -:--:--\n",
      "   --- ------------------------------------ 0.3/3.4 MB ? eta -:--:--\n",
      "   --- ------------------------------------ 0.3/3.4 MB ? eta -:--:--\n",
      "   --- ------------------------------------ 0.3/3.4 MB ? eta -:--:--\n",
      "   --- ------------------------------------ 0.3/3.4 MB ? eta -:--:--\n",
      "   --- ------------------------------------ 0.3/3.4 MB ? eta -:--:--\n",
      "   --- ------------------------------------ 0.3/3.4 MB ? eta -:--:--\n",
      "   --- ------------------------------------ 0.3/3.4 MB ? eta -:--:--\n",
      "   --- ------------------------------------ 0.3/3.4 MB ? eta -:--:--\n",
      "   --- ------------------------------------ 0.3/3.4 MB ? eta -:--:--\n",
      "   --- ------------------------------------ 0.3/3.4 MB ? eta -:--:--\n",
      "   --- ------------------------------------ 0.3/3.4 MB ? eta -:--:--\n",
      "   --- ------------------------------------ 0.3/3.4 MB ? eta -:--:--\n",
      "   ------ --------------------------------- 0.5/3.4 MB 38.9 kB/s eta 0:01:13\n",
      "   ------ --------------------------------- 0.5/3.4 MB 38.9 kB/s eta 0:01:13\n",
      "   ------ --------------------------------- 0.5/3.4 MB 38.9 kB/s eta 0:01:13\n",
      "   ------ --------------------------------- 0.5/3.4 MB 38.9 kB/s eta 0:01:13\n",
      "   ------ --------------------------------- 0.5/3.4 MB 38.9 kB/s eta 0:01:13\n",
      "   ------ --------------------------------- 0.5/3.4 MB 38.9 kB/s eta 0:01:13\n",
      "   ------ --------------------------------- 0.5/3.4 MB 38.9 kB/s eta 0:01:13\n",
      "   ------ --------------------------------- 0.5/3.4 MB 38.9 kB/s eta 0:01:13\n",
      "   ------ --------------------------------- 0.5/3.4 MB 38.9 kB/s eta 0:01:13\n",
      "   ------ --------------------------------- 0.5/3.4 MB 38.9 kB/s eta 0:01:13\n",
      "   ------ --------------------------------- 0.5/3.4 MB 38.9 kB/s eta 0:01:13\n",
      "   ------ --------------------------------- 0.5/3.4 MB 38.9 kB/s eta 0:01:13\n",
      "   ------ --------------------------------- 0.5/3.4 MB 38.9 kB/s eta 0:01:13\n",
      "   ------ --------------------------------- 0.5/3.4 MB 38.9 kB/s eta 0:01:13\n",
      "   ------ --------------------------------- 0.5/3.4 MB 38.9 kB/s eta 0:01:13\n",
      "   ------ --------------------------------- 0.5/3.4 MB 38.9 kB/s eta 0:01:13\n",
      "   ------ --------------------------------- 0.5/3.4 MB 38.9 kB/s eta 0:01:13\n",
      "   --------- ------------------------------ 0.8/3.4 MB 51.1 kB/s eta 0:00:51\n",
      "   --------- ------------------------------ 0.8/3.4 MB 51.1 kB/s eta 0:00:51\n",
      "   --------- ------------------------------ 0.8/3.4 MB 51.1 kB/s eta 0:00:51\n",
      "   --------- ------------------------------ 0.8/3.4 MB 51.1 kB/s eta 0:00:51\n",
      "   --------- ------------------------------ 0.8/3.4 MB 51.1 kB/s eta 0:00:51\n",
      "   --------- ------------------------------ 0.8/3.4 MB 51.1 kB/s eta 0:00:51\n",
      "   --------- ------------------------------ 0.8/3.4 MB 51.1 kB/s eta 0:00:51\n",
      "   --------- ------------------------------ 0.8/3.4 MB 51.1 kB/s eta 0:00:51\n",
      "   --------- ------------------------------ 0.8/3.4 MB 51.1 kB/s eta 0:00:51\n",
      "   --------- ------------------------------ 0.8/3.4 MB 51.1 kB/s eta 0:00:51\n",
      "   --------- ------------------------------ 0.8/3.4 MB 51.1 kB/s eta 0:00:51\n",
      "   --------- ------------------------------ 0.8/3.4 MB 51.1 kB/s eta 0:00:51\n",
      "   --------- ------------------------------ 0.8/3.4 MB 51.1 kB/s eta 0:00:51\n",
      "   --------- ------------------------------ 0.8/3.4 MB 51.1 kB/s eta 0:00:51\n",
      "   --------- ------------------------------ 0.8/3.4 MB 51.1 kB/s eta 0:00:51\n",
      "   --------- ------------------------------ 0.8/3.4 MB 51.1 kB/s eta 0:00:51\n",
      "   --------- ------------------------------ 0.8/3.4 MB 51.1 kB/s eta 0:00:51\n",
      "   --------- ------------------------------ 0.8/3.4 MB 51.1 kB/s eta 0:00:51\n",
      "   --------- ------------------------------ 0.8/3.4 MB 51.1 kB/s eta 0:00:51\n",
      "   --------- ------------------------------ 0.8/3.4 MB 51.1 kB/s eta 0:00:51\n",
      "   --------- ------------------------------ 0.8/3.4 MB 51.1 kB/s eta 0:00:51\n",
      "   --------- ------------------------------ 0.8/3.4 MB 51.1 kB/s eta 0:00:51\n",
      "   --------- ------------------------------ 0.8/3.4 MB 51.1 kB/s eta 0:00:51\n",
      "   --------- ------------------------------ 0.8/3.4 MB 51.1 kB/s eta 0:00:51\n",
      "   --------- ------------------------------ 0.8/3.4 MB 51.1 kB/s eta 0:00:51\n",
      "   --------- ------------------------------ 0.8/3.4 MB 51.1 kB/s eta 0:00:51\n",
      "   --------- ------------------------------ 0.8/3.4 MB 51.1 kB/s eta 0:00:51\n",
      "   --------- ------------------------------ 0.8/3.4 MB 51.1 kB/s eta 0:00:51\n",
      "   --------- ------------------------------ 0.8/3.4 MB 51.1 kB/s eta 0:00:51\n",
      "   --------- ------------------------------ 0.8/3.4 MB 51.1 kB/s eta 0:00:51\n",
      "   --------- ------------------------------ 0.8/3.4 MB 51.1 kB/s eta 0:00:51\n",
      "   --------- ------------------------------ 0.8/3.4 MB 51.1 kB/s eta 0:00:51\n",
      "   --------- ------------------------------ 0.8/3.4 MB 51.1 kB/s eta 0:00:51\n",
      "   ------------ --------------------------- 1.0/3.4 MB 45.9 kB/s eta 0:00:51\n",
      "   ------------ --------------------------- 1.0/3.4 MB 45.9 kB/s eta 0:00:51\n",
      "   ------------ --------------------------- 1.0/3.4 MB 45.9 kB/s eta 0:00:51\n",
      "   ------------ --------------------------- 1.0/3.4 MB 45.9 kB/s eta 0:00:51\n",
      "   ------------ --------------------------- 1.0/3.4 MB 45.9 kB/s eta 0:00:51\n",
      "   ------------ --------------------------- 1.0/3.4 MB 45.9 kB/s eta 0:00:51\n",
      "   ------------ --------------------------- 1.0/3.4 MB 45.9 kB/s eta 0:00:51\n",
      "   ------------ --------------------------- 1.0/3.4 MB 45.9 kB/s eta 0:00:51\n",
      "   ------------ --------------------------- 1.0/3.4 MB 45.9 kB/s eta 0:00:51\n",
      "   ------------ --------------------------- 1.0/3.4 MB 45.9 kB/s eta 0:00:51\n",
      "   ------------ --------------------------- 1.0/3.4 MB 45.9 kB/s eta 0:00:51\n",
      "   ------------ --------------------------- 1.0/3.4 MB 45.9 kB/s eta 0:00:51\n",
      "   ------------ --------------------------- 1.0/3.4 MB 45.9 kB/s eta 0:00:51\n",
      "   ------------ --------------------------- 1.0/3.4 MB 45.9 kB/s eta 0:00:51\n",
      "   ------------ --------------------------- 1.0/3.4 MB 45.9 kB/s eta 0:00:51\n",
      "   ------------ --------------------------- 1.0/3.4 MB 45.9 kB/s eta 0:00:51\n",
      "   ------------ --------------------------- 1.0/3.4 MB 45.9 kB/s eta 0:00:51\n",
      "   --------------- ------------------------ 1.3/3.4 MB 50.8 kB/s eta 0:00:41\n",
      "   --------------- ------------------------ 1.3/3.4 MB 50.8 kB/s eta 0:00:41\n",
      "   --------------- ------------------------ 1.3/3.4 MB 50.8 kB/s eta 0:00:41\n",
      "   --------------- ------------------------ 1.3/3.4 MB 50.8 kB/s eta 0:00:41\n",
      "   --------------- ------------------------ 1.3/3.4 MB 50.8 kB/s eta 0:00:41\n",
      "   --------------- ------------------------ 1.3/3.4 MB 50.8 kB/s eta 0:00:41\n",
      "   --------------- ------------------------ 1.3/3.4 MB 50.8 kB/s eta 0:00:41\n",
      "   --------------- ------------------------ 1.3/3.4 MB 50.8 kB/s eta 0:00:41\n",
      "   --------------- ------------------------ 1.3/3.4 MB 50.8 kB/s eta 0:00:41\n",
      "   --------------- ------------------------ 1.3/3.4 MB 50.8 kB/s eta 0:00:41\n",
      "   --------------- ------------------------ 1.3/3.4 MB 50.8 kB/s eta 0:00:41\n",
      "   --------------- ------------------------ 1.3/3.4 MB 50.8 kB/s eta 0:00:41\n",
      "   --------------- ------------------------ 1.3/3.4 MB 50.8 kB/s eta 0:00:41\n",
      "   --------------- ------------------------ 1.3/3.4 MB 50.8 kB/s eta 0:00:41\n",
      "   --------------- ------------------------ 1.3/3.4 MB 50.8 kB/s eta 0:00:41\n",
      "   --------------- ------------------------ 1.3/3.4 MB 50.8 kB/s eta 0:00:41\n",
      "   --------------- ------------------------ 1.3/3.4 MB 50.8 kB/s eta 0:00:41\n",
      "   --------------- ------------------------ 1.3/3.4 MB 50.8 kB/s eta 0:00:41\n",
      "   --------------- ------------------------ 1.3/3.4 MB 50.8 kB/s eta 0:00:41\n",
      "   --------------- ------------------------ 1.3/3.4 MB 50.8 kB/s eta 0:00:41\n",
      "   --------------- ------------------------ 1.3/3.4 MB 50.8 kB/s eta 0:00:41\n",
      "   --------------- ------------------------ 1.3/3.4 MB 50.8 kB/s eta 0:00:41\n",
      "   ------------------ --------------------- 1.6/3.4 MB 51.9 kB/s eta 0:00:35\n",
      "   ------------------ --------------------- 1.6/3.4 MB 51.9 kB/s eta 0:00:35\n",
      "   ------------------ --------------------- 1.6/3.4 MB 51.9 kB/s eta 0:00:35\n",
      "   ------------------ --------------------- 1.6/3.4 MB 51.9 kB/s eta 0:00:35\n",
      "   ------------------ --------------------- 1.6/3.4 MB 51.9 kB/s eta 0:00:35\n",
      "   ------------------ --------------------- 1.6/3.4 MB 51.9 kB/s eta 0:00:35\n",
      "   ------------------ --------------------- 1.6/3.4 MB 51.9 kB/s eta 0:00:35\n",
      "   ------------------ --------------------- 1.6/3.4 MB 51.9 kB/s eta 0:00:35\n",
      "   ------------------ --------------------- 1.6/3.4 MB 51.9 kB/s eta 0:00:35\n",
      "   ------------------ --------------------- 1.6/3.4 MB 51.9 kB/s eta 0:00:35\n",
      "   ------------------ --------------------- 1.6/3.4 MB 51.9 kB/s eta 0:00:35\n",
      "   ------------------ --------------------- 1.6/3.4 MB 51.9 kB/s eta 0:00:35\n",
      "   ------------------ --------------------- 1.6/3.4 MB 51.9 kB/s eta 0:00:35\n",
      "   ------------------ --------------------- 1.6/3.4 MB 51.9 kB/s eta 0:00:35\n",
      "   ------------------ --------------------- 1.6/3.4 MB 51.9 kB/s eta 0:00:35\n",
      "   ------------------ --------------------- 1.6/3.4 MB 51.9 kB/s eta 0:00:35\n",
      "   ------------------ --------------------- 1.6/3.4 MB 51.9 kB/s eta 0:00:35\n",
      "   ------------------ --------------------- 1.6/3.4 MB 51.9 kB/s eta 0:00:35\n",
      "   --------------------- ------------------ 1.8/3.4 MB 54.4 kB/s eta 0:00:29\n",
      "   --------------------- ------------------ 1.8/3.4 MB 54.4 kB/s eta 0:00:29\n",
      "   --------------------- ------------------ 1.8/3.4 MB 54.4 kB/s eta 0:00:29\n",
      "   --------------------- ------------------ 1.8/3.4 MB 54.4 kB/s eta 0:00:29\n",
      "   --------------------- ------------------ 1.8/3.4 MB 54.4 kB/s eta 0:00:29\n",
      "   --------------------- ------------------ 1.8/3.4 MB 54.4 kB/s eta 0:00:29\n",
      "   --------------------- ------------------ 1.8/3.4 MB 54.4 kB/s eta 0:00:29\n",
      "   --------------------- ------------------ 1.8/3.4 MB 54.4 kB/s eta 0:00:29\n",
      "   --------------------- ------------------ 1.8/3.4 MB 54.4 kB/s eta 0:00:29\n",
      "   --------------------- ------------------ 1.8/3.4 MB 54.4 kB/s eta 0:00:29\n",
      "   --------------------- ------------------ 1.8/3.4 MB 54.4 kB/s eta 0:00:29\n",
      "   --------------------- ------------------ 1.8/3.4 MB 54.4 kB/s eta 0:00:29\n",
      "   --------------------- ------------------ 1.8/3.4 MB 54.4 kB/s eta 0:00:29\n",
      "   --------------------- ------------------ 1.8/3.4 MB 54.4 kB/s eta 0:00:29\n",
      "   --------------------- ------------------ 1.8/3.4 MB 54.4 kB/s eta 0:00:29\n",
      "   --------------------- ------------------ 1.8/3.4 MB 54.4 kB/s eta 0:00:29\n",
      "   --------------------- ------------------ 1.8/3.4 MB 54.4 kB/s eta 0:00:29\n",
      "   --------------------- ------------------ 1.8/3.4 MB 54.4 kB/s eta 0:00:29\n",
      "   --------------------- ------------------ 1.8/3.4 MB 54.4 kB/s eta 0:00:29\n",
      "   --------------------- ------------------ 1.8/3.4 MB 54.4 kB/s eta 0:00:29\n",
      "   --------------------- ------------------ 1.8/3.4 MB 54.4 kB/s eta 0:00:29\n",
      "   --------------------- ------------------ 1.8/3.4 MB 54.4 kB/s eta 0:00:29\n",
      "   --------------------- ------------------ 1.8/3.4 MB 54.4 kB/s eta 0:00:29\n",
      "   --------------------- ------------------ 1.8/3.4 MB 54.4 kB/s eta 0:00:29\n",
      "   ------------------------ --------------- 2.1/3.4 MB 58.1 kB/s eta 0:00:22\n",
      "   ------------------------ --------------- 2.1/3.4 MB 58.1 kB/s eta 0:00:22\n",
      "   ------------------------ --------------- 2.1/3.4 MB 58.1 kB/s eta 0:00:22\n",
      "   ------------------------ --------------- 2.1/3.4 MB 58.1 kB/s eta 0:00:22\n",
      "   ------------------------ --------------- 2.1/3.4 MB 58.1 kB/s eta 0:00:22\n",
      "   ------------------------ --------------- 2.1/3.4 MB 58.1 kB/s eta 0:00:22\n",
      "   ------------------------ --------------- 2.1/3.4 MB 58.1 kB/s eta 0:00:22\n",
      "   ------------------------ --------------- 2.1/3.4 MB 58.1 kB/s eta 0:00:22\n",
      "   ------------------------ --------------- 2.1/3.4 MB 58.1 kB/s eta 0:00:22\n",
      "   ------------------------ --------------- 2.1/3.4 MB 58.1 kB/s eta 0:00:22\n",
      "   ------------------------ --------------- 2.1/3.4 MB 58.1 kB/s eta 0:00:22\n",
      "   ------------------------ --------------- 2.1/3.4 MB 58.1 kB/s eta 0:00:22\n",
      "   ------------------------ --------------- 2.1/3.4 MB 58.1 kB/s eta 0:00:22\n",
      "   ------------------------ --------------- 2.1/3.4 MB 58.1 kB/s eta 0:00:22\n",
      "   ------------------------ --------------- 2.1/3.4 MB 58.1 kB/s eta 0:00:22\n",
      "   ------------------------ --------------- 2.1/3.4 MB 58.1 kB/s eta 0:00:22\n",
      "   ------------------------ --------------- 2.1/3.4 MB 58.1 kB/s eta 0:00:22\n",
      "   ---------------------------- ----------- 2.4/3.4 MB 58.0 kB/s eta 0:00:18\n",
      "   ---------------------------- ----------- 2.4/3.4 MB 58.0 kB/s eta 0:00:18\n",
      "   ---------------------------- ----------- 2.4/3.4 MB 58.0 kB/s eta 0:00:18\n",
      "   ---------------------------- ----------- 2.4/3.4 MB 58.0 kB/s eta 0:00:18\n",
      "   ---------------------------- ----------- 2.4/3.4 MB 58.0 kB/s eta 0:00:18\n",
      "   ---------------------------- ----------- 2.4/3.4 MB 58.0 kB/s eta 0:00:18\n",
      "   ---------------------------- ----------- 2.4/3.4 MB 58.0 kB/s eta 0:00:18\n",
      "   ---------------------------- ----------- 2.4/3.4 MB 58.0 kB/s eta 0:00:18\n",
      "   ---------------------------- ----------- 2.4/3.4 MB 58.0 kB/s eta 0:00:18\n",
      "   ---------------------------- ----------- 2.4/3.4 MB 58.0 kB/s eta 0:00:18\n",
      "   ---------------------------- ----------- 2.4/3.4 MB 58.0 kB/s eta 0:00:18\n",
      "   ---------------------------- ----------- 2.4/3.4 MB 58.0 kB/s eta 0:00:18\n",
      "   ---------------------------- ----------- 2.4/3.4 MB 58.0 kB/s eta 0:00:18\n",
      "   ---------------------------- ----------- 2.4/3.4 MB 58.0 kB/s eta 0:00:18\n",
      "   ---------------------------- ----------- 2.4/3.4 MB 58.0 kB/s eta 0:00:18\n",
      "   ---------------------------- ----------- 2.4/3.4 MB 58.0 kB/s eta 0:00:18\n",
      "   ---------------------------- ----------- 2.4/3.4 MB 58.0 kB/s eta 0:00:18\n",
      "   ---------------------------- ----------- 2.4/3.4 MB 58.0 kB/s eta 0:00:18\n",
      "   ------------------------------- -------- 2.6/3.4 MB 65.5 kB/s eta 0:00:12\n",
      "   ------------------------------- -------- 2.6/3.4 MB 65.5 kB/s eta 0:00:12\n",
      "   ------------------------------- -------- 2.6/3.4 MB 65.5 kB/s eta 0:00:12\n",
      "   ------------------------------- -------- 2.6/3.4 MB 65.5 kB/s eta 0:00:12\n",
      "   ------------------------------- -------- 2.6/3.4 MB 65.5 kB/s eta 0:00:12\n",
      "   ------------------------------- -------- 2.6/3.4 MB 65.5 kB/s eta 0:00:12\n",
      "   ------------------------------- -------- 2.6/3.4 MB 65.5 kB/s eta 0:00:12\n",
      "   ------------------------------- -------- 2.6/3.4 MB 65.5 kB/s eta 0:00:12\n",
      "   ------------------------------- -------- 2.6/3.4 MB 65.5 kB/s eta 0:00:12\n",
      "   ------------------------------- -------- 2.6/3.4 MB 65.5 kB/s eta 0:00:12\n",
      "   ------------------------------- -------- 2.6/3.4 MB 65.5 kB/s eta 0:00:12\n",
      "   ------------------------------- -------- 2.6/3.4 MB 65.5 kB/s eta 0:00:12\n",
      "   ------------------------------- -------- 2.6/3.4 MB 65.5 kB/s eta 0:00:12\n",
      "   ------------------------------- -------- 2.6/3.4 MB 65.5 kB/s eta 0:00:12\n",
      "   ------------------------------- -------- 2.6/3.4 MB 65.5 kB/s eta 0:00:12\n",
      "   ------------------------------- -------- 2.6/3.4 MB 65.5 kB/s eta 0:00:12\n",
      "   ------------------------------- -------- 2.6/3.4 MB 65.5 kB/s eta 0:00:12\n",
      "   ------------------------------- -------- 2.6/3.4 MB 65.5 kB/s eta 0:00:12\n",
      "   ------------------------------- -------- 2.6/3.4 MB 65.5 kB/s eta 0:00:12\n",
      "   ---------------------------------- ----- 2.9/3.4 MB 65.6 kB/s eta 0:00:08\n",
      "   ---------------------------------- ----- 2.9/3.4 MB 65.6 kB/s eta 0:00:08\n",
      "   ---------------------------------- ----- 2.9/3.4 MB 65.6 kB/s eta 0:00:08\n",
      "   ---------------------------------- ----- 2.9/3.4 MB 65.6 kB/s eta 0:00:08\n",
      "   ---------------------------------- ----- 2.9/3.4 MB 65.6 kB/s eta 0:00:08\n",
      "   ---------------------------------- ----- 2.9/3.4 MB 65.6 kB/s eta 0:00:08\n",
      "   ---------------------------------- ----- 2.9/3.4 MB 65.6 kB/s eta 0:00:08\n",
      "   ---------------------------------- ----- 2.9/3.4 MB 65.6 kB/s eta 0:00:08\n",
      "   ---------------------------------- ----- 2.9/3.4 MB 65.6 kB/s eta 0:00:08\n",
      "   ---------------------------------- ----- 2.9/3.4 MB 65.6 kB/s eta 0:00:08\n",
      "   ---------------------------------- ----- 2.9/3.4 MB 65.6 kB/s eta 0:00:08\n",
      "   ---------------------------------- ----- 2.9/3.4 MB 65.6 kB/s eta 0:00:08\n",
      "   ---------------------------------- ----- 2.9/3.4 MB 65.6 kB/s eta 0:00:08\n",
      "   ---------------------------------- ----- 2.9/3.4 MB 65.6 kB/s eta 0:00:08\n",
      "   ---------------------------------- ----- 2.9/3.4 MB 65.6 kB/s eta 0:00:08\n",
      "   ---------------------------------- ----- 2.9/3.4 MB 65.6 kB/s eta 0:00:08\n",
      "   ---------------------------------- ----- 2.9/3.4 MB 65.6 kB/s eta 0:00:08\n",
      "   ---------------------------------- ----- 2.9/3.4 MB 65.6 kB/s eta 0:00:08\n",
      "   ---------------------------------- ----- 2.9/3.4 MB 65.6 kB/s eta 0:00:08\n",
      "   ---------------------------------- ----- 2.9/3.4 MB 65.6 kB/s eta 0:00:08\n",
      "   ---------------------------------- ----- 2.9/3.4 MB 65.6 kB/s eta 0:00:08\n",
      "   ------------------------------------- -- 3.1/3.4 MB 63.7 kB/s eta 0:00:04\n",
      "   ------------------------------------- -- 3.1/3.4 MB 63.7 kB/s eta 0:00:04\n",
      "   ------------------------------------- -- 3.1/3.4 MB 63.7 kB/s eta 0:00:04\n",
      "   ------------------------------------- -- 3.1/3.4 MB 63.7 kB/s eta 0:00:04\n",
      "   ------------------------------------- -- 3.1/3.4 MB 63.7 kB/s eta 0:00:04\n",
      "   ------------------------------------- -- 3.1/3.4 MB 63.7 kB/s eta 0:00:04\n",
      "   ------------------------------------- -- 3.1/3.4 MB 63.7 kB/s eta 0:00:04\n",
      "   ------------------------------------- -- 3.1/3.4 MB 63.7 kB/s eta 0:00:04\n",
      "   ------------------------------------- -- 3.1/3.4 MB 63.7 kB/s eta 0:00:04\n",
      "   ------------------------------------- -- 3.1/3.4 MB 63.7 kB/s eta 0:00:04\n",
      "   ------------------------------------- -- 3.1/3.4 MB 63.7 kB/s eta 0:00:04\n",
      "   ------------------------------------- -- 3.1/3.4 MB 63.7 kB/s eta 0:00:04\n",
      "   ------------------------------------- -- 3.1/3.4 MB 63.7 kB/s eta 0:00:04\n",
      "   ------------------------------------- -- 3.1/3.4 MB 63.7 kB/s eta 0:00:04\n",
      "   ------------------------------------- -- 3.1/3.4 MB 63.7 kB/s eta 0:00:04\n",
      "   ------------------------------------- -- 3.1/3.4 MB 63.7 kB/s eta 0:00:04\n",
      "   ------------------------------------- -- 3.1/3.4 MB 63.7 kB/s eta 0:00:04\n",
      "   ------------------------------------- -- 3.1/3.4 MB 63.7 kB/s eta 0:00:04\n",
      "   ------------------------------------- -- 3.1/3.4 MB 63.7 kB/s eta 0:00:04\n",
      "   ------------------------------------- -- 3.1/3.4 MB 63.7 kB/s eta 0:00:04\n",
      "   ---------------------------------------- 3.4/3.4 MB 63.3 kB/s eta 0:00:00\n",
      "Installing collected packages: imageio\n",
      "  Attempting uninstall: imageio\n",
      "    Found existing installation: imageio 2.33.1\n",
      "    Uninstalling imageio-2.33.1:\n",
      "      Successfully uninstalled imageio-2.33.1\n",
      "Successfully installed imageio-2.23.0\n"
     ]
    },
    {
     "name": "stderr",
     "output_type": "stream",
     "text": [
      "ERROR: pip's dependency resolver does not currently take into account all the packages that are installed. This behaviour is the source of the following dependency conflicts.\n",
      "scikit-image 0.24.0 requires imageio>=2.33, but you have imageio 2.23.0 which is incompatible.\n"
     ]
    }
   ],
   "source": [
    "!pip install imageio==2.23.0"
   ]
  },
  {
   "cell_type": "code",
   "execution_count": 86,
   "id": "acf5eb4f-a0da-4a9a-bf24-af13e9cc2fbe",
   "metadata": {
    "tags": []
   },
   "outputs": [
    {
     "ename": "TypeError",
     "evalue": "Cannot handle this data type: (1, 1, 1), <f4",
     "output_type": "error",
     "traceback": [
      "\u001b[1;31m---------------------------------------------------------------------------\u001b[0m",
      "\u001b[1;31mKeyError\u001b[0m                                  Traceback (most recent call last)",
      "File \u001b[1;32m~\\anaconda3\\Lib\\site-packages\\PIL\\Image.py:3277\u001b[0m, in \u001b[0;36mfromarray\u001b[1;34m(obj, mode)\u001b[0m\n\u001b[0;32m   3276\u001b[0m \u001b[38;5;28;01mtry\u001b[39;00m:\n\u001b[1;32m-> 3277\u001b[0m     mode, rawmode \u001b[38;5;241m=\u001b[39m _fromarray_typemap[typekey]\n\u001b[0;32m   3278\u001b[0m \u001b[38;5;28;01mexcept\u001b[39;00m \u001b[38;5;167;01mKeyError\u001b[39;00m \u001b[38;5;28;01mas\u001b[39;00m e:\n",
      "\u001b[1;31mKeyError\u001b[0m: ((1, 1, 1), '<f4')",
      "\nThe above exception was the direct cause of the following exception:\n",
      "\u001b[1;31mTypeError\u001b[0m                                 Traceback (most recent call last)",
      "Cell \u001b[1;32mIn[86], line 1\u001b[0m\n\u001b[1;32m----> 1\u001b[0m imageio\u001b[38;5;241m.\u001b[39mmimsave(\u001b[38;5;124m'\u001b[39m\u001b[38;5;124m./animation.gif\u001b[39m\u001b[38;5;124m'\u001b[39m, val[\u001b[38;5;241m0\u001b[39m][\u001b[38;5;241m0\u001b[39m], fps\u001b[38;5;241m=\u001b[39m\u001b[38;5;241m10\u001b[39m)\n",
      "File \u001b[1;32m~\\anaconda3\\Lib\\site-packages\\imageio\\v2.py:495\u001b[0m, in \u001b[0;36mmimwrite\u001b[1;34m(uri, ims, format, **kwargs)\u001b[0m\n\u001b[0;32m    493\u001b[0m imopen_args[\u001b[38;5;124m\"\u001b[39m\u001b[38;5;124mlegacy_mode\u001b[39m\u001b[38;5;124m\"\u001b[39m] \u001b[38;5;241m=\u001b[39m \u001b[38;5;28;01mTrue\u001b[39;00m\n\u001b[0;32m    494\u001b[0m \u001b[38;5;28;01mwith\u001b[39;00m imopen(uri, \u001b[38;5;124m\"\u001b[39m\u001b[38;5;124mwI\u001b[39m\u001b[38;5;124m\"\u001b[39m, \u001b[38;5;241m*\u001b[39m\u001b[38;5;241m*\u001b[39mimopen_args) \u001b[38;5;28;01mas\u001b[39;00m file:\n\u001b[1;32m--> 495\u001b[0m     \u001b[38;5;28;01mreturn\u001b[39;00m file\u001b[38;5;241m.\u001b[39mwrite(ims, is_batch\u001b[38;5;241m=\u001b[39m\u001b[38;5;28;01mTrue\u001b[39;00m, \u001b[38;5;241m*\u001b[39m\u001b[38;5;241m*\u001b[39mkwargs)\n",
      "File \u001b[1;32m~\\anaconda3\\Lib\\site-packages\\imageio\\plugins\\pillow.py:444\u001b[0m, in \u001b[0;36mPillowPlugin.write\u001b[1;34m(self, ndimage, mode, format, is_batch, **kwargs)\u001b[0m\n\u001b[0;32m    441\u001b[0m     ndimage \u001b[38;5;241m=\u001b[39m ndimage[\u001b[38;5;28;01mNone\u001b[39;00m, \u001b[38;5;241m.\u001b[39m\u001b[38;5;241m.\u001b[39m\u001b[38;5;241m.\u001b[39m]\n\u001b[0;32m    443\u001b[0m \u001b[38;5;28;01mfor\u001b[39;00m frame \u001b[38;5;129;01min\u001b[39;00m ndimage:\n\u001b[1;32m--> 444\u001b[0m     pil_frame \u001b[38;5;241m=\u001b[39m Image\u001b[38;5;241m.\u001b[39mfromarray(frame, mode\u001b[38;5;241m=\u001b[39mmode)\n\u001b[0;32m    445\u001b[0m     \u001b[38;5;28;01mif\u001b[39;00m \u001b[38;5;124m\"\u001b[39m\u001b[38;5;124mbits\u001b[39m\u001b[38;5;124m\"\u001b[39m \u001b[38;5;129;01min\u001b[39;00m kwargs:\n\u001b[0;32m    446\u001b[0m         pil_frame \u001b[38;5;241m=\u001b[39m pil_frame\u001b[38;5;241m.\u001b[39mquantize(colors\u001b[38;5;241m=\u001b[39m\u001b[38;5;241m2\u001b[39m \u001b[38;5;241m*\u001b[39m\u001b[38;5;241m*\u001b[39m kwargs[\u001b[38;5;124m\"\u001b[39m\u001b[38;5;124mbits\u001b[39m\u001b[38;5;124m\"\u001b[39m])\n",
      "File \u001b[1;32m~\\anaconda3\\Lib\\site-packages\\PIL\\Image.py:3281\u001b[0m, in \u001b[0;36mfromarray\u001b[1;34m(obj, mode)\u001b[0m\n\u001b[0;32m   3279\u001b[0m         typekey_shape, typestr \u001b[38;5;241m=\u001b[39m typekey\n\u001b[0;32m   3280\u001b[0m         msg \u001b[38;5;241m=\u001b[39m \u001b[38;5;124mf\u001b[39m\u001b[38;5;124m\"\u001b[39m\u001b[38;5;124mCannot handle this data type: \u001b[39m\u001b[38;5;132;01m{\u001b[39;00mtypekey_shape\u001b[38;5;132;01m}\u001b[39;00m\u001b[38;5;124m, \u001b[39m\u001b[38;5;132;01m{\u001b[39;00mtypestr\u001b[38;5;132;01m}\u001b[39;00m\u001b[38;5;124m\"\u001b[39m\n\u001b[1;32m-> 3281\u001b[0m         \u001b[38;5;28;01mraise\u001b[39;00m \u001b[38;5;167;01mTypeError\u001b[39;00m(msg) \u001b[38;5;28;01mfrom\u001b[39;00m \u001b[38;5;21;01me\u001b[39;00m\n\u001b[0;32m   3282\u001b[0m \u001b[38;5;28;01melse\u001b[39;00m:\n\u001b[0;32m   3283\u001b[0m     rawmode \u001b[38;5;241m=\u001b[39m mode\n",
      "\u001b[1;31mTypeError\u001b[0m: Cannot handle this data type: (1, 1, 1), <f4"
     ]
    }
   ],
   "source": [
    "imageio.mimsave('./animation.gif', val[0][0], fps=10)"
   ]
  },
  {
   "cell_type": "code",
   "execution_count": 88,
   "id": "5152023b-57d0-4c0e-b635-3aed9c8d3641",
   "metadata": {},
   "outputs": [],
   "source": [
    "fv = (val[0][1].astype(np.uint8) * 255).squeeze()\n",
    "imageio.mimsave('./animation.gif', fv, duration=100)"
   ]
  },
  {
   "cell_type": "code",
   "execution_count": 90,
   "id": "c33a87a2-d5e0-4ec9-b174-73ebf41bf03a",
   "metadata": {
    "tags": []
   },
   "outputs": [
    {
     "data": {
      "text/plain": [
       "<matplotlib.image.AxesImage at 0x252c37aa330>"
      ]
     },
     "execution_count": 90,
     "metadata": {},
     "output_type": "execute_result"
    },
    {
     "data": {
      "image/png": "[encoded data removed]",
      "text/plain": [
       "<Figure size 640x480 with 1 Axes>"
      ]
     },
     "metadata": {},
     "output_type": "display_data"
    }
   ],
   "source": [
    "# 0:videos, 0: 1st video out of the batch,  0: return the first frame in the video \n",
    "plt.imshow(val[0][0][35])"
   ]
  },
  {
   "cell_type": "code",
   "execution_count": 92,
   "id": "84593332-133c-4205-b7a6-8e235d5e2b3b",
   "metadata": {
    "tags": []
   },
   "outputs": [
    {
     "data": {
      "text/plain": [
       "<tf.Tensor: shape=(), dtype=string, numpy=b'bin blue in z sp two please'>"
      ]
     },
     "execution_count": 92,
     "metadata": {},
     "output_type": "execute_result"
    }
   ],
   "source": [
    "tf.strings.reduce_join([num_to_char(word) for word in val[1][0]])"
   ]
  },
  {
   "cell_type": "markdown",
   "id": "0f47733c-83bc-465c-b118-b198b492ad37",
   "metadata": {
    "tags": []
   },
   "source": [
    "# 3. Design the Deep Neural Network"
   ]
  },
  {
   "cell_type": "code",
   "execution_count": null,
   "id": "d8e9a497-191b-4842-afbd-26f5e13c43ba",
   "metadata": {
    "tags": []
   },
   "outputs": [],
   "source": [
    "from tensorflow.keras.models import Sequential \n",
    "from tensorflow.keras.layers import Conv3D, LSTM, Dense, Dropout, Bidirectional, MaxPool3D, Activation, Reshape, SpatialDropout3D, BatchNormalization, TimeDistributed, Flatten\n",
    "from tensorflow.keras.optimizers import Adam\n",
    "from tensorflow.keras.callbacks import ModelCheckpoint, LearningRateScheduler"
   ]
  },
  {
   "cell_type": "code",
   "execution_count": null,
   "id": "3f753ed2-70b9-4236-8c1c-08ca065dc8bf",
   "metadata": {},
   "outputs": [],
   "source": [
    "data.as_numpy_iterator().next()[0][0].shape"
   ]
  },
  {
   "cell_type": "code",
   "execution_count": null,
   "id": "f9171056-a352-491a-9ed9-92b28ced268e",
   "metadata": {
    "tags": []
   },
   "outputs": [],
   "source": [
    "model = Sequential()\n",
    "model.add(Conv3D(128, 3, input_shape=(75,46,140,1), padding='same'))\n",
    "model.add(Activation('relu'))\n",
    "model.add(MaxPool3D((1,2,2)))\n",
    "\n",
    "model.add(Conv3D(256, 3, padding='same'))\n",
    "model.add(Activation('relu'))\n",
    "model.add(MaxPool3D((1,2,2)))\n",
    "\n",
    "model.add(Conv3D(75, 3, padding='same'))\n",
    "model.add(Activation('relu'))\n",
    "model.add(MaxPool3D((1,2,2)))\n",
    "\n",
    "model.add(TimeDistributed(Flatten()))\n",
    "\n",
    "model.add(Bidirectional(LSTM(128, kernel_initializer='Orthogonal', return_sequences=True)))\n",
    "model.add(Dropout(.5))\n",
    "\n",
    "model.add(Bidirectional(LSTM(128, kernel_initializer='Orthogonal', return_sequences=True)))\n",
    "model.add(Dropout(.5))\n",
    "\n",
    "model.add(Dense(char_to_num.vocabulary_size()+1, kernel_initializer='he_normal', activation='softmax'))"
   ]
  },
  {
   "cell_type": "code",
   "execution_count": null,
   "id": "78851825-2bcd-42a9-b7f2-28bb5a6bf43a",
   "metadata": {
    "tags": []
   },
   "outputs": [],
   "source": [
    "model.summary()"
   ]
  },
  {
   "cell_type": "code",
   "execution_count": null,
   "id": "f4b4798c-a65a-4c47-9e2a-3b09dc98d320",
   "metadata": {},
   "outputs": [],
   "source": [
    "5*17*75"
   ]
  },
  {
   "cell_type": "code",
   "execution_count": null,
   "id": "e5c2eae0-c359-41a4-97a0-75c44dccb7d1",
   "metadata": {
    "tags": []
   },
   "outputs": [],
   "source": [
    "yhat = model.predict(val[0])"
   ]
  },
  {
   "cell_type": "code",
   "execution_count": null,
   "id": "ffdc7319-0d69-4f7e-a6d4-ce72deb81c0b",
   "metadata": {},
   "outputs": [],
   "source": [
    "tf.strings.reduce_join([num_to_char(x) for x in tf.argmax(yhat[0],axis=1)])"
   ]
  },
  {
   "cell_type": "code",
   "execution_count": null,
   "id": "6ed47531-8317-4255-9a12-b757642258e6",
   "metadata": {
    "tags": []
   },
   "outputs": [],
   "source": [
    "tf.strings.reduce_join([num_to_char(tf.argmax(x)) for x in yhat[0]])"
   ]
  },
  {
   "cell_type": "code",
   "execution_count": null,
   "id": "7c37b9b9-5298-4038-9c33-5031d1b457f0",
   "metadata": {
    "tags": []
   },
   "outputs": [],
   "source": [
    "model.input_shape"
   ]
  },
  {
   "cell_type": "code",
   "execution_count": null,
   "id": "98b316a4-5322-4782-8e36-4b3c1a696d85",
   "metadata": {
    "tags": []
   },
   "outputs": [],
   "source": [
    "model.output_shape"
   ]
  },
  {
   "cell_type": "markdown",
   "id": "2ec02176-5c26-46c3-aff7-8352e6563c7d",
   "metadata": {
    "tags": []
   },
   "source": [
    "# 4. Setup Training Options and Train"
   ]
  },
  {
   "cell_type": "code",
   "execution_count": null,
   "id": "ab015fd0-7fb4-4d5d-9fa2-30a05dbd515a",
   "metadata": {
    "tags": []
   },
   "outputs": [],
   "source": [
    "def scheduler(epoch, lr):\n",
    "    if epoch < 30:\n",
    "        return lr\n",
    "    else:\n",
    "        return lr * tf.math.exp(-0.1)"
   ]
  },
  {
   "cell_type": "code",
   "execution_count": null,
   "id": "c564d5c9-db54-4e88-b311-9aeab7fb3e69",
   "metadata": {
    "tags": []
   },
   "outputs": [],
   "source": [
    "def CTCLoss(y_true, y_pred):\n",
    "    batch_len = tf.cast(tf.shape(y_true)[0], dtype=\"int64\")\n",
    "    input_length = tf.cast(tf.shape(y_pred)[1], dtype=\"int64\")\n",
    "    label_length = tf.cast(tf.shape(y_true)[1], dtype=\"int64\")\n",
    "\n",
    "    input_length = input_length * tf.ones(shape=(batch_len, 1), dtype=\"int64\")\n",
    "    label_length = label_length * tf.ones(shape=(batch_len, 1), dtype=\"int64\")\n",
    "\n",
    "    loss = tf.keras.backend.ctc_batch_cost(y_true, y_pred, input_length, label_length)\n",
    "    return loss"
   ]
  },
  {
   "cell_type": "code",
   "execution_count": null,
   "id": "a26dc3fc-a19c-4378-bd8c-e2b597a1d15c",
   "metadata": {
    "tags": []
   },
   "outputs": [],
   "source": [
    "class ProduceExample(tf.keras.callbacks.Callback): \n",
    "    def __init__(self, dataset) -> None: \n",
    "        self.dataset = dataset.as_numpy_iterator()\n",
    "    \n",
    "    def on_epoch_end(self, epoch, logs=None) -> None:\n",
    "        data = self.dataset.next()\n",
    "        yhat = self.model.predict(data[0])\n",
    "        decoded = tf.keras.backend.ctc_decode(yhat, [75,75], greedy=False)[0][0].numpy()\n",
    "        for x in range(len(yhat)):           \n",
    "            print('Original:', tf.strings.reduce_join(num_to_char(data[1][x])).numpy().decode('utf-8'))\n",
    "            print('Prediction:', tf.strings.reduce_join(num_to_char(decoded[x])).numpy().decode('utf-8'))\n",
    "            print('~'*100)"
   ]
  },
  {
   "cell_type": "code",
   "execution_count": null,
   "id": "04be90d8-2482-46f9-b513-d5f4f8001c7e",
   "metadata": {
    "tags": []
   },
   "outputs": [],
   "source": [
    "model.compile(optimizer=Adam(learning_rate=0.0001), loss=CTCLoss)"
   ]
  },
  {
   "cell_type": "code",
   "execution_count": null,
   "id": "eab49367-3f1e-4464-ae76-dbd07549d97e",
   "metadata": {
    "tags": []
   },
   "outputs": [],
   "source": [
    "checkpoint_callback = ModelCheckpoint(os.path.join('models','checkpoint'), monitor='loss', save_weights_only=True) "
   ]
  },
  {
   "cell_type": "code",
   "execution_count": null,
   "id": "e085a632-d464-46ef-8777-959cad4adb2c",
   "metadata": {
    "tags": []
   },
   "outputs": [],
   "source": [
    "schedule_callback = LearningRateScheduler(scheduler)"
   ]
  },
  {
   "cell_type": "code",
   "execution_count": null,
   "id": "48eca991-90ab-4592-8a79-b50e9ca015b6",
   "metadata": {
    "tags": []
   },
   "outputs": [],
   "source": [
    "example_callback = ProduceExample(test)"
   ]
  },
  {
   "cell_type": "code",
   "execution_count": null,
   "id": "8ffba483-aa61-4bbe-a15f-a73e1ddf097c",
   "metadata": {
    "tags": []
   },
   "outputs": [],
   "source": [
    "model.fit(train, validation_data=test, epochs=100, callbacks=[checkpoint_callback, schedule_callback, example_callback])"
   ]
  },
  {
   "cell_type": "markdown",
   "id": "fa8ee94b-89f7-4733-8a0c-a86f86ff590a",
   "metadata": {
    "tags": []
   },
   "source": [
    "# 5. Make a Prediction "
   ]
  },
  {
   "cell_type": "code",
   "execution_count": null,
   "id": "01fa7204-ce0e-49a8-8dbd-14fe5dfead40",
   "metadata": {
    "tags": []
   },
   "outputs": [],
   "source": [
    "url = 'https://drive.google.com/uc?id=1vWscXs4Vt0a_1IH1-ct2TCgXAZT-N3_Y'\n",
    "output = 'checkpoints.zip'\n",
    "gdown.download(url, output, quiet=False)\n",
    "gdown.extractall('checkpoints.zip', 'models')"
   ]
  },
  {
   "cell_type": "code",
   "execution_count": null,
   "id": "247f664d-3c87-4e96-946e-930dad0e1c2c",
   "metadata": {
    "tags": []
   },
   "outputs": [],
   "source": [
    "model.load_weights('models/checkpoint')"
   ]
  },
  {
   "cell_type": "code",
   "execution_count": null,
   "id": "7f8d689f-b7bb-443c-9b88-e40c1d800828",
   "metadata": {
    "tags": []
   },
   "outputs": [],
   "source": [
    "test_data = test.as_numpy_iterator()"
   ]
  },
  {
   "cell_type": "code",
   "execution_count": null,
   "id": "38546dc2-bee9-4837-864b-8a884df40ad7",
   "metadata": {
    "tags": []
   },
   "outputs": [],
   "source": [
    "sample = test_data.next()"
   ]
  },
  {
   "cell_type": "code",
   "execution_count": null,
   "id": "a43621f0-229d-4c0d-9554-9c3a3da9c61a",
   "metadata": {
    "tags": []
   },
   "outputs": [],
   "source": [
    "yhat = model.predict(sample[0])"
   ]
  },
  {
   "cell_type": "code",
   "execution_count": null,
   "id": "ea462999-f87e-4a7e-a057-5be7b6d8f7d5",
   "metadata": {
    "tags": []
   },
   "outputs": [],
   "source": [
    "print('~'*100, 'REAL TEXT')\n",
    "[tf.strings.reduce_join([num_to_char(word) for word in sentence]) for sentence in sample[1]]"
   ]
  },
  {
   "cell_type": "code",
   "execution_count": null,
   "id": "82bd4c10-dd6e-411e-834b-2a3b43fd12c5",
   "metadata": {
    "tags": []
   },
   "outputs": [],
   "source": [
    "decoded = tf.keras.backend.ctc_decode(yhat, input_length=[75,75], greedy=True)[0][0].numpy()"
   ]
  },
  {
   "cell_type": "code",
   "execution_count": null,
   "id": "5d68ac46-c90b-4eab-a709-f19aee569ff5",
   "metadata": {
    "tags": []
   },
   "outputs": [],
   "source": [
    "print('~'*100, 'PREDICTIONS')\n",
    "[tf.strings.reduce_join([num_to_char(word) for word in sentence]) for sentence in decoded]"
   ]
  },
  {
   "cell_type": "markdown",
   "id": "64622f98-e99b-4fed-a2cc-f0da82eb5431",
   "metadata": {},
   "source": [
    "# Test on a Video"
   ]
  },
  {
   "cell_type": "code",
   "execution_count": null,
   "id": "a8b0c4d0-2031-4331-b91d-d87b1ae6f6e2",
   "metadata": {},
   "outputs": [],
   "source": [
    "sample = load_data(tf.convert_to_tensor('.\\\\data\\\\s1\\\\bras9a.mpg'))"
   ]
  },
  {
   "cell_type": "code",
   "execution_count": null,
   "id": "0cca60e4-47a9-4683-8a75-48f4684f723d",
   "metadata": {},
   "outputs": [],
   "source": [
    "print('~'*100, 'REAL TEXT')\n",
    "[tf.strings.reduce_join([num_to_char(word) for word in sentence]) for sentence in [sample[1]]]"
   ]
  },
  {
   "cell_type": "code",
   "execution_count": null,
   "id": "8cc5037c-1e32-435c-b0cc-01e1fb3b863c",
   "metadata": {},
   "outputs": [],
   "source": [
    "yhat = model.predict(tf.expand_dims(sample[0], axis=0))"
   ]
  },
  {
   "cell_type": "code",
   "execution_count": null,
   "id": "22c4f77d-715d-409f-bc5e-3ebe48704e8f",
   "metadata": {},
   "outputs": [],
   "source": [
    "decoded = tf.keras.backend.ctc_decode(yhat, input_length=[75], greedy=True)[0][0].numpy()"
   ]
  },
  {
   "cell_type": "code",
   "execution_count": null,
   "id": "e4d12ecc-b634-499e-a4bc-db9f010835fb",
   "metadata": {},
   "outputs": [],
   "source": [
    "print('~'*100, 'PREDICTIONS')\n",
    "[tf.strings.reduce_join([num_to_char(word) for word in sentence]) for sentence in decoded]"
   ]
  },
  {
   "cell_type": "code",
   "execution_count": null,
   "id": "551dfea2-de6b-4400-b71a-a17631529e3f",
   "metadata": {},
   "outputs": [],
   "source": []
  },
  {
   "cell_type": "code",
   "execution_count": null,
   "id": "fa95863d-3832-47bf-8a77-ebaa38054ace",
   "metadata": {},
   "outputs": [],
   "source": []
  }
 ],
 "metadata": {
  "kernelspec": {
   "display_name": "Python [conda env:base] *",
   "language": "python",
   "name": "conda-base-py"
  },
  "language_info": {
   "codemirror_mode": {
    "name": "ipython",
    "version": 3
   },
   "file_extension": ".py",
   "mimetype": "text/x-python",
   "name": "python",
   "nbconvert_exporter": "python",
   "pygments_lexer": "ipython3",
   "version": "3.12.7"
  }
 },
 "nbformat": 4,
 "nbformat_minor": 5
}
